{
  "nbformat": 4,
  "nbformat_minor": 0,
  "metadata": {
    "colab": {
      "name": "tugas_akhir_pt2.ipynb",
      "provenance": [],
      "collapsed_sections": []
    },
    "kernelspec": {
      "name": "python3",
      "display_name": "Python 3"
    },
    "language_info": {
      "name": "python"
    }
  },
  "cells": [
    {
      "cell_type": "code",
      "execution_count": null,
      "metadata": {
        "colab": {
          "base_uri": "https://localhost:8080/"
        },
        "id": "IevkfptUaTV8",
        "outputId": "d9e95614-70de-4b7d-db9f-a814542a2a09"
      },
      "outputs": [
        {
          "output_type": "stream",
          "name": "stdout",
          "text": [
            "[nltk_data] Downloading package punkt to /root/nltk_data...\n",
            "[nltk_data]   Package punkt is already up-to-date!\n",
            "[nltk_data] Downloading package wordnet to /root/nltk_data...\n",
            "[nltk_data]   Package wordnet is already up-to-date!\n",
            "[nltk_data] Downloading package averaged_perceptron_tagger to\n",
            "[nltk_data]     /root/nltk_data...\n",
            "[nltk_data]   Package averaged_perceptron_tagger is already up-to-\n",
            "[nltk_data]       date!\n",
            "[nltk_data] Downloading package stopwords to /root/nltk_data...\n",
            "[nltk_data]   Package stopwords is already up-to-date!\n"
          ]
        }
      ],
      "source": [
        "import numpy as np\n",
        "import pandas as pd\n",
        " \n",
        "import copy\n",
        "from collections import Counter\n",
        "import collections\n",
        "import pandas as pd\n",
        "import matplotlib.pyplot as plt\n",
        "import os\n",
        "import seaborn as sns\n",
        "%matplotlib inline\n",
        " \n",
        "from nltk.util import ngrams\n",
        "from nltk import pos_tag\n",
        "from nltk.tokenize import word_tokenize\n",
        "from nltk.corpus import stopwords\n",
        "from collections import defaultdict\n",
        "from nltk.corpus import wordnet as wn\n",
        "from wordcloud import WordCloud, STOPWORDS\n",
        "from nltk.stem import WordNetLemmatizer\n",
        "from sklearn.preprocessing import LabelEncoder\n",
        " \n",
        "import nltk, re, string, collections\n",
        "nltk.download('punkt')\n",
        "nltk.download('wordnet')\n",
        "nltk.download('averaged_perceptron_tagger')\n",
        "nltk.download('stopwords')\n",
        " \n",
        "from sklearn.feature_selection import mutual_info_classif\n",
        "from sklearn.feature_extraction.text import TfidfVectorizer\n",
        "from scipy import sparse \n",
        " \n",
        "from sklearn.model_selection import train_test_split\n",
        "from sklearn.svm import LinearSVC\n",
        "from sklearn import model_selection, naive_bayes, svm\n",
        "from sklearn.linear_model import LogisticRegression\n",
        "from sklearn.naive_bayes import MultinomialNB\n",
        "from sklearn import metrics\n",
        "from sklearn.metrics import classification_report, f1_score, accuracy_score, confusion_matrix\n",
        "from sklearn.metrics import roc_curve, auc, roc_auc_score\n",
        "from sklearn.model_selection import KFold\n",
        "from sklearn.model_selection import cross_val_score\n",
        "\n",
        "import warnings\n",
        "warnings.filterwarnings('ignore')\n",
        "\n",
        "\n",
        "import random\n",
        "import token\n",
        "from google.colab import files"
      ]
    },
    {
      "cell_type": "code",
      "source": [
        "from google.colab import drive\n",
        "drive.mount('/content/drive')"
      ],
      "metadata": {
        "colab": {
          "base_uri": "https://localhost:8080/"
        },
        "id": "cCclpSnWxnm9",
        "outputId": "a4b63876-3de8-4d58-ab46-7beba2ad2402"
      },
      "execution_count": null,
      "outputs": [
        {
          "output_type": "stream",
          "name": "stdout",
          "text": [
            "Mounted at /content/drive\n"
          ]
        }
      ]
    },
    {
      "cell_type": "code",
      "source": [
        "clean_data = pd.read_csv('drive/My Drive/Tugas Akhir/review_data_Preprocessing.csv')\n",
        "display(clean_data.head())"
      ],
      "metadata": {
        "id": "_h47OowXaiZT",
        "colab": {
          "base_uri": "https://localhost:8080/",
          "height": 206
        },
        "outputId": "0d7c415f-8bcd-494c-a39a-0aa6dce5ec2a"
      },
      "execution_count": null,
      "outputs": [
        {
          "output_type": "display_data",
          "data": {
            "text/html": [
              "\n",
              "  <div id=\"df-710c9933-38e0-4b06-a9af-cfbb657760cd\">\n",
              "    <div class=\"colab-df-container\">\n",
              "      <div>\n",
              "<style scoped>\n",
              "    .dataframe tbody tr th:only-of-type {\n",
              "        vertical-align: middle;\n",
              "    }\n",
              "\n",
              "    .dataframe tbody tr th {\n",
              "        vertical-align: top;\n",
              "    }\n",
              "\n",
              "    .dataframe thead th {\n",
              "        text-align: right;\n",
              "    }\n",
              "</style>\n",
              "<table border=\"1\" class=\"dataframe\">\n",
              "  <thead>\n",
              "    <tr style=\"text-align: right;\">\n",
              "      <th></th>\n",
              "      <th>Unnamed: 0</th>\n",
              "      <th>review</th>\n",
              "      <th>sentiment</th>\n",
              "      <th>unigram</th>\n",
              "    </tr>\n",
              "  </thead>\n",
              "  <tbody>\n",
              "    <tr>\n",
              "      <th>0</th>\n",
              "      <td>0</td>\n",
              "      <td>['one', 'of', 'the', 'other', 'reviewers', 'ha...</td>\n",
              "      <td>positive</td>\n",
              "      <td>['one', 'reviewer', 'mention', 'watch', 'oz', ...</td>\n",
              "    </tr>\n",
              "    <tr>\n",
              "      <th>1</th>\n",
              "      <td>1</td>\n",
              "      <td>['a', 'wonderful', 'little', 'production', 'th...</td>\n",
              "      <td>positive</td>\n",
              "      <td>['wonderful', 'little', 'production', 'filming...</td>\n",
              "    </tr>\n",
              "    <tr>\n",
              "      <th>2</th>\n",
              "      <td>2</td>\n",
              "      <td>['i', 'thought', 'this', 'was', 'a', 'wonderfu...</td>\n",
              "      <td>positive</td>\n",
              "      <td>['think', 'wonderful', 'way', 'spend', 'time',...</td>\n",
              "    </tr>\n",
              "    <tr>\n",
              "      <th>3</th>\n",
              "      <td>3</td>\n",
              "      <td>['basically', 'there', 's', 'a', 'family', 'wh...</td>\n",
              "      <td>negative</td>\n",
              "      <td>['basically', 'family', 'little', 'boy', 'jake...</td>\n",
              "    </tr>\n",
              "    <tr>\n",
              "      <th>4</th>\n",
              "      <td>4</td>\n",
              "      <td>['petter', 'mattei', 's', 'love', 'in', 'the',...</td>\n",
              "      <td>positive</td>\n",
              "      <td>['petter', 'mattei', 'love', 'time', 'money', ...</td>\n",
              "    </tr>\n",
              "  </tbody>\n",
              "</table>\n",
              "</div>\n",
              "      <button class=\"colab-df-convert\" onclick=\"convertToInteractive('df-710c9933-38e0-4b06-a9af-cfbb657760cd')\"\n",
              "              title=\"Convert this dataframe to an interactive table.\"\n",
              "              style=\"display:none;\">\n",
              "        \n",
              "  <svg xmlns=\"http://www.w3.org/2000/svg\" height=\"24px\"viewBox=\"0 0 24 24\"\n",
              "       width=\"24px\">\n",
              "    <path d=\"M0 0h24v24H0V0z\" fill=\"none\"/>\n",
              "    <path d=\"M18.56 5.44l.94 2.06.94-2.06 2.06-.94-2.06-.94-.94-2.06-.94 2.06-2.06.94zm-11 1L8.5 8.5l.94-2.06 2.06-.94-2.06-.94L8.5 2.5l-.94 2.06-2.06.94zm10 10l.94 2.06.94-2.06 2.06-.94-2.06-.94-.94-2.06-.94 2.06-2.06.94z\"/><path d=\"M17.41 7.96l-1.37-1.37c-.4-.4-.92-.59-1.43-.59-.52 0-1.04.2-1.43.59L10.3 9.45l-7.72 7.72c-.78.78-.78 2.05 0 2.83L4 21.41c.39.39.9.59 1.41.59.51 0 1.02-.2 1.41-.59l7.78-7.78 2.81-2.81c.8-.78.8-2.07 0-2.86zM5.41 20L4 18.59l7.72-7.72 1.47 1.35L5.41 20z\"/>\n",
              "  </svg>\n",
              "      </button>\n",
              "      \n",
              "  <style>\n",
              "    .colab-df-container {\n",
              "      display:flex;\n",
              "      flex-wrap:wrap;\n",
              "      gap: 12px;\n",
              "    }\n",
              "\n",
              "    .colab-df-convert {\n",
              "      background-color: #E8F0FE;\n",
              "      border: none;\n",
              "      border-radius: 50%;\n",
              "      cursor: pointer;\n",
              "      display: none;\n",
              "      fill: #1967D2;\n",
              "      height: 32px;\n",
              "      padding: 0 0 0 0;\n",
              "      width: 32px;\n",
              "    }\n",
              "\n",
              "    .colab-df-convert:hover {\n",
              "      background-color: #E2EBFA;\n",
              "      box-shadow: 0px 1px 2px rgba(60, 64, 67, 0.3), 0px 1px 3px 1px rgba(60, 64, 67, 0.15);\n",
              "      fill: #174EA6;\n",
              "    }\n",
              "\n",
              "    [theme=dark] .colab-df-convert {\n",
              "      background-color: #3B4455;\n",
              "      fill: #D2E3FC;\n",
              "    }\n",
              "\n",
              "    [theme=dark] .colab-df-convert:hover {\n",
              "      background-color: #434B5C;\n",
              "      box-shadow: 0px 1px 3px 1px rgba(0, 0, 0, 0.15);\n",
              "      filter: drop-shadow(0px 1px 2px rgba(0, 0, 0, 0.3));\n",
              "      fill: #FFFFFF;\n",
              "    }\n",
              "  </style>\n",
              "\n",
              "      <script>\n",
              "        const buttonEl =\n",
              "          document.querySelector('#df-710c9933-38e0-4b06-a9af-cfbb657760cd button.colab-df-convert');\n",
              "        buttonEl.style.display =\n",
              "          google.colab.kernel.accessAllowed ? 'block' : 'none';\n",
              "\n",
              "        async function convertToInteractive(key) {\n",
              "          const element = document.querySelector('#df-710c9933-38e0-4b06-a9af-cfbb657760cd');\n",
              "          const dataTable =\n",
              "            await google.colab.kernel.invokeFunction('convertToInteractive',\n",
              "                                                     [key], {});\n",
              "          if (!dataTable) return;\n",
              "\n",
              "          const docLinkHtml = 'Like what you see? Visit the ' +\n",
              "            '<a target=\"_blank\" href=https://colab.research.google.com/notebooks/data_table.ipynb>data table notebook</a>'\n",
              "            + ' to learn more about interactive tables.';\n",
              "          element.innerHTML = '';\n",
              "          dataTable['output_type'] = 'display_data';\n",
              "          await google.colab.output.renderOutput(dataTable, element);\n",
              "          const docLink = document.createElement('div');\n",
              "          docLink.innerHTML = docLinkHtml;\n",
              "          element.appendChild(docLink);\n",
              "        }\n",
              "      </script>\n",
              "    </div>\n",
              "  </div>\n",
              "  "
            ],
            "text/plain": [
              "   Unnamed: 0  ...                                            unigram\n",
              "0           0  ...  ['one', 'reviewer', 'mention', 'watch', 'oz', ...\n",
              "1           1  ...  ['wonderful', 'little', 'production', 'filming...\n",
              "2           2  ...  ['think', 'wonderful', 'way', 'spend', 'time',...\n",
              "3           3  ...  ['basically', 'family', 'little', 'boy', 'jake...\n",
              "4           4  ...  ['petter', 'mattei', 'love', 'time', 'money', ...\n",
              "\n",
              "[5 rows x 4 columns]"
            ]
          },
          "metadata": {}
        }
      ]
    },
    {
      "cell_type": "code",
      "source": [
        "X = clean_data['review']\n",
        "y = clean_data.sentiment"
      ],
      "metadata": {
        "id": "kWKz-ezvakze"
      },
      "execution_count": null,
      "outputs": []
    },
    {
      "cell_type": "code",
      "source": [
        "Encoder = LabelEncoder()\n",
        "y = Encoder.fit_transform(y)"
      ],
      "metadata": {
        "id": "pPaEAx4jalS4"
      },
      "execution_count": null,
      "outputs": []
    },
    {
      "cell_type": "code",
      "source": [
        "# ---------------------- Get Sparse Matrix & Tags , Unigram, BIgram and Trigram ------------------\n",
        "def get_sparse_n_tags(file_names, dataset_name):\n",
        "    \n",
        "    # load preprocessed dataset as dataframe\n",
        "    #LABEL_DATA = pd.read_csv(dataset_name, encoding = \"ISO-8859-1\", usecols=[\"sentiment\"])\n",
        "    tags = clean_data.sentiment\n",
        "    \n",
        "    # load sparse matrix\n",
        "    unigram = sparse.load_npz(file_names[0]).toarray()\n",
        "    bigram = sparse.load_npz(file_names[1]).toarray()\n",
        "  \n",
        "    \n",
        "    return [unigram, bigram, tags]\n",
        "\n",
        "sparse_file_names = [\n",
        "                    \"tfidf_mat_unigram.npz\",\n",
        "                    \"tfidf_mat_bigram.npz\"]\n",
        "preprocessed_dataset_name = y\n",
        "\n",
        "tfidf_sparse_unigram, tfidf_sparse_bigram, tags = \\\n",
        "                        get_sparse_n_tags(sparse_file_names, preprocessed_dataset_name)"
      ],
      "metadata": {
        "id": "wzLEVHyow8l6"
      },
      "execution_count": null,
      "outputs": []
    },
    {
      "cell_type": "code",
      "source": [
        "tfidf_sparse_unigram.shape, tfidf_sparse_bigram.shape"
      ],
      "metadata": {
        "colab": {
          "base_uri": "https://localhost:8080/"
        },
        "id": "WdQ9sJCRMZkx",
        "outputId": "3d441955-9665-4b17-fbdb-46cde4a51e50"
      },
      "execution_count": null,
      "outputs": [
        {
          "output_type": "execute_result",
          "data": {
            "text/plain": [
              "((50000, 3000), (50000, 3000))"
            ]
          },
          "metadata": {},
          "execution_count": 6
        }
      ]
    },
    {
      "cell_type": "code",
      "source": [
        "# ---------------------------- SPLIT DATASET -----------------------------------------------\n",
        "def split_dataset(sparse, tags, split_ratio):\n",
        "    # split dataset \n",
        "    return train_test_split(sparse, tags, test_size=split_ratio, random_state=42) \n",
        "\n",
        "\n",
        "tfidf_sparse_unigram_train, tfidf_sparse_unigram_test, tags_train, tags_test = split_dataset(tfidf_sparse_unigram, tags, 0.3)\n",
        "tfidf_sparse_bigram_train, tfidf_sparse_bigram_test, tags_train, tags_test = split_dataset(tfidf_sparse_bigram, tags, 0.3)"
      ],
      "metadata": {
        "id": "WgOBzXnzxAII"
      },
      "execution_count": null,
      "outputs": []
    },
    {
      "cell_type": "code",
      "source": [
        "nb_tfidf = MultinomialNB()\n",
        "nb_tfidf.fit(tfidf_sparse_unigram_train,tags_train)  \n",
        "\n",
        "#Predict y value for test dataset\n",
        "y_pred = nb_tfidf.predict(tfidf_sparse_unigram_test)\n",
        "y_prob = nb_tfidf.predict_proba(tfidf_sparse_unigram_test)\n",
        "print(classification_report(tags_test, y_pred))\n",
        "print('Confusion Matrix:\\n',metrics.confusion_matrix(tags_test, y_pred))\n",
        "\n",
        "avg_score = (cross_val_score(nb_tfidf, tfidf_sparse_unigram_test, tags_test, cv=5))\n",
        "print(avg_score)\n",
        "print(\"%0.3f accuracy with a standard deviation of %0.3f\" % (avg_score.mean(), avg_score.std()))"
      ],
      "metadata": {
        "colab": {
          "base_uri": "https://localhost:8080/"
        },
        "id": "ApDnltWw1-L2",
        "outputId": "65a4ea74-8258-48c5-a94c-d3dc6dcd487c"
      },
      "execution_count": null,
      "outputs": [
        {
          "output_type": "stream",
          "name": "stdout",
          "text": [
            "              precision    recall  f1-score   support\n",
            "\n",
            "    negative       0.84      0.86      0.85      7411\n",
            "    positive       0.86      0.84      0.85      7589\n",
            "\n",
            "    accuracy                           0.85     15000\n",
            "   macro avg       0.85      0.85      0.85     15000\n",
            "weighted avg       0.85      0.85      0.85     15000\n",
            "\n",
            "Confusion Matrix:\n",
            " [[6384 1027]\n",
            " [1182 6407]]\n",
            "[0.85366667 0.84366667 0.85466667 0.85433333 0.85133333]\n",
            "0.852 accuracy with a standard deviation of 0.004\n"
          ]
        }
      ]
    },
    {
      "cell_type": "code",
      "source": [
        "nb_tfidf = MultinomialNB()\n",
        "nb_tfidf.fit(tfidf_sparse_bigram_train,tags_train)  \n",
        "\n",
        "#Predict y value for test dataset\n",
        "y_pred = nb_tfidf.predict(tfidf_sparse_bigram_test)\n",
        "y_prob = nb_tfidf.predict_proba(tfidf_sparse_bigram_test)\n",
        "print(classification_report(tags_test, y_pred))\n",
        "print('Confusion Matrix:\\n',metrics.confusion_matrix(tags_test, y_pred))\n",
        "\n",
        "avg_score = (cross_val_score(nb_tfidf, tfidf_sparse_bigram_test, tags_test, cv=5))\n",
        "print(avg_score)\n",
        "\n",
        "print(\"%0.3f accuracy with a standard deviation of %0.3f\" % (avg_score.mean(), avg_score.std()))"
      ],
      "metadata": {
        "colab": {
          "base_uri": "https://localhost:8080/"
        },
        "id": "oZnrBsKk2AT-",
        "outputId": "f09feffb-e98e-41cb-ed45-78cd52cbf31d"
      },
      "execution_count": null,
      "outputs": [
        {
          "output_type": "stream",
          "name": "stdout",
          "text": [
            "              precision    recall  f1-score   support\n",
            "\n",
            "    negative       0.84      0.83      0.84      7411\n",
            "    positive       0.84      0.85      0.84      7589\n",
            "\n",
            "    accuracy                           0.84     15000\n",
            "   macro avg       0.84      0.84      0.84     15000\n",
            "weighted avg       0.84      0.84      0.84     15000\n",
            "\n",
            "Confusion Matrix:\n",
            " [[6152 1259]\n",
            " [1159 6430]]\n",
            "[0.83466667 0.824      0.83366667 0.831      0.82733333]\n",
            "0.830 accuracy with a standard deviation of 0.004\n"
          ]
        }
      ]
    },
    {
      "cell_type": "code",
      "source": [
        "svc = LinearSVC()\n",
        "svc.fit(tfidf_sparse_unigram_train, tags_train)\n",
        "\n",
        "y_true = tags_test\n",
        "y_pred = svc.predict(tfidf_sparse_unigram_test)\n",
        "\n",
        "print(classification_report(tags_test, y_pred))\n",
        "print('Confusion Matrix:\\n',metrics.confusion_matrix(tags_test, y_pred))\n",
        "avg_score = (cross_val_score(svc, tfidf_sparse_unigram_test, tags_test, cv=5))\n",
        "print(avg_score)\n",
        "\n",
        "print(\"%0.3f accuracy with a standard deviation of %0.3f\" % (avg_score.mean(), avg_score.std()))"
      ],
      "metadata": {
        "colab": {
          "base_uri": "https://localhost:8080/"
        },
        "id": "9NUERXCq2GDv",
        "outputId": "3cca486c-3519-4360-cac9-ea4dbd2061a4"
      },
      "execution_count": null,
      "outputs": [
        {
          "output_type": "stream",
          "name": "stdout",
          "text": [
            "              precision    recall  f1-score   support\n",
            "\n",
            "    negative       0.89      0.88      0.89      7411\n",
            "    positive       0.89      0.90      0.89      7589\n",
            "\n",
            "    accuracy                           0.89     15000\n",
            "   macro avg       0.89      0.89      0.89     15000\n",
            "weighted avg       0.89      0.89      0.89     15000\n",
            "\n",
            "Confusion Matrix:\n",
            " [[6543  868]\n",
            " [ 791 6798]]\n",
            "[0.87433333 0.873      0.87833333 0.873      0.87133333]\n",
            "0.874 accuracy with a standard deviation of 0.002\n"
          ]
        }
      ]
    },
    {
      "cell_type": "code",
      "source": [
        "svc = LinearSVC()\n",
        "svc.fit(tfidf_sparse_bigram_train, tags_train)\n",
        "\n",
        "y_true = tags_test\n",
        "y_pred = svc.predict(tfidf_sparse_bigram_test)\n",
        "\n",
        "print(classification_report(tags_test, y_pred))\n",
        "print('Confusion Matrix:\\n',metrics.confusion_matrix(tags_test, y_pred))\n",
        "avg_score = (cross_val_score(svc, tfidf_sparse_bigram_test, tags_test, cv=5))\n",
        "print(avg_score)\n",
        "\n",
        "print(\"%0.3f accuracy with a standard deviation of %0.3f\" % (avg_score.mean(), avg_score.std()))"
      ],
      "metadata": {
        "colab": {
          "base_uri": "https://localhost:8080/"
        },
        "id": "dQ41ewic2H9K",
        "outputId": "eb9c2481-b3fd-4fa5-badf-84d9e04ba7f3"
      },
      "execution_count": null,
      "outputs": [
        {
          "output_type": "stream",
          "name": "stdout",
          "text": [
            "              precision    recall  f1-score   support\n",
            "\n",
            "    negative       0.84      0.83      0.84      7411\n",
            "    positive       0.84      0.85      0.84      7589\n",
            "\n",
            "    accuracy                           0.84     15000\n",
            "   macro avg       0.84      0.84      0.84     15000\n",
            "weighted avg       0.84      0.84      0.84     15000\n",
            "\n",
            "Confusion Matrix:\n",
            " [[6176 1235]\n",
            " [1139 6450]]\n",
            "[0.826      0.826      0.82766667 0.82066667 0.82533333]\n",
            "0.825 accuracy with a standard deviation of 0.002\n"
          ]
        }
      ]
    }
  ]
}