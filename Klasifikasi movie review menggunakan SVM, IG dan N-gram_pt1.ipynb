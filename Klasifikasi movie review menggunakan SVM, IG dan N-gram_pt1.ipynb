{
  "cells": [
    {
      "cell_type": "code",
      "execution_count": 1,
      "metadata": {
        "colab": {
          "base_uri": "https://localhost:8080/"
        },
        "id": "egy7nZPXU2Ki",
        "outputId": "c9e35ae9-604b-4f2d-f28b-7aa81486f5e1"
      },
      "outputs": [
        {
          "output_type": "stream",
          "name": "stdout",
          "text": [
            "[nltk_data] Downloading package punkt to /root/nltk_data...\n",
            "[nltk_data]   Unzipping tokenizers/punkt.zip.\n",
            "[nltk_data] Downloading package wordnet to /root/nltk_data...\n",
            "[nltk_data]   Unzipping corpora/wordnet.zip.\n",
            "[nltk_data] Downloading package averaged_perceptron_tagger to\n",
            "[nltk_data]     /root/nltk_data...\n",
            "[nltk_data]   Unzipping taggers/averaged_perceptron_tagger.zip.\n",
            "[nltk_data] Downloading package stopwords to /root/nltk_data...\n",
            "[nltk_data]   Unzipping corpora/stopwords.zip.\n"
          ]
        }
      ],
      "source": [
        "import numpy as np\n",
        "import pandas as pd\n",
        " \n",
        "import copy\n",
        "from collections import Counter\n",
        "import collections\n",
        "import pandas as pd\n",
        "import matplotlib.pyplot as plt\n",
        "import os\n",
        "import seaborn as sns\n",
        "%matplotlib inline\n",
        " \n",
        "from nltk.util import ngrams\n",
        "from nltk import pos_tag\n",
        "from nltk.tokenize import word_tokenize\n",
        "from nltk.corpus import stopwords\n",
        "from collections import defaultdict\n",
        "from nltk.corpus import wordnet as wn\n",
        "from wordcloud import WordCloud, STOPWORDS\n",
        "from nltk.stem import WordNetLemmatizer\n",
        "from sklearn.preprocessing import LabelEncoder\n",
        " \n",
        "import nltk, re, string, collections\n",
        "nltk.download('punkt')\n",
        "nltk.download('wordnet')\n",
        "nltk.download('averaged_perceptron_tagger')\n",
        "nltk.download('stopwords')\n",
        " \n",
        "from sklearn.feature_selection import mutual_info_classif\n",
        "from sklearn.feature_extraction.text import TfidfVectorizer, CountVectorizer\n",
        "from sklearn.preprocessing import normalize\n",
        "from scipy import sparse \n",
        "import scipy.sparse\n",
        " \n",
        "from sklearn.model_selection import train_test_split\n",
        "from sklearn.svm import LinearSVC\n",
        "from sklearn import model_selection, naive_bayes, svm\n",
        "from sklearn.linear_model import LogisticRegression\n",
        "from sklearn.naive_bayes import MultinomialNB\n",
        "from sklearn import metrics\n",
        "from sklearn.metrics import classification_report, f1_score, accuracy_score, confusion_matrix\n",
        "from sklearn.metrics import roc_curve, auc, roc_auc_score\n",
        "from sklearn.model_selection import KFold\n",
        "from sklearn.model_selection import cross_val_score\n",
        "\n",
        "import warnings\n",
        "warnings.filterwarnings('ignore')\n",
        "\n",
        "import random\n",
        "import token\n",
        "from google.colab import files"
      ]
    },
    {
      "cell_type": "code",
      "execution_count": null,
      "metadata": {
        "colab": {
          "base_uri": "https://localhost:8080/"
        },
        "id": "9_mMaRx_vIGq",
        "outputId": "951067f9-35f5-4530-b63e-a18d174e8652"
      },
      "outputs": [
        {
          "output_type": "stream",
          "name": "stdout",
          "text": [
            "Drive already mounted at /content/drive; to attempt to forcibly remount, call drive.mount(\"/content/drive\", force_remount=True).\n"
          ]
        }
      ],
      "source": [
        "from google.colab import drive\n",
        "drive.mount('/content/drive')"
      ]
    },
    {
      "cell_type": "markdown",
      "metadata": {
        "id": "jICgeJ4jtGi4"
      },
      "source": [
        "Membaca Data"
      ]
    },
    {
      "cell_type": "code",
      "execution_count": null,
      "metadata": {
        "colab": {
          "base_uri": "https://localhost:8080/",
          "height": 204
        },
        "id": "9fd0TZR0VJhK",
        "outputId": "cdda10bf-cea3-498f-f8a6-488c337e8ea6"
      },
      "outputs": [
        {
          "data": {
            "text/html": [
              "<div>\n",
              "<style scoped>\n",
              "    .dataframe tbody tr th:only-of-type {\n",
              "        vertical-align: middle;\n",
              "    }\n",
              "\n",
              "    .dataframe tbody tr th {\n",
              "        vertical-align: top;\n",
              "    }\n",
              "\n",
              "    .dataframe thead th {\n",
              "        text-align: right;\n",
              "    }\n",
              "</style>\n",
              "<table border=\"1\" class=\"dataframe\">\n",
              "  <thead>\n",
              "    <tr style=\"text-align: right;\">\n",
              "      <th></th>\n",
              "      <th>review</th>\n",
              "      <th>sentiment</th>\n",
              "    </tr>\n",
              "  </thead>\n",
              "  <tbody>\n",
              "    <tr>\n",
              "      <th>0</th>\n",
              "      <td>One of the other reviewers has mentioned that ...</td>\n",
              "      <td>positive</td>\n",
              "    </tr>\n",
              "    <tr>\n",
              "      <th>1</th>\n",
              "      <td>A wonderful little production. &lt;br /&gt;&lt;br /&gt;The...</td>\n",
              "      <td>positive</td>\n",
              "    </tr>\n",
              "    <tr>\n",
              "      <th>2</th>\n",
              "      <td>I thought this was a wonderful way to spend ti...</td>\n",
              "      <td>positive</td>\n",
              "    </tr>\n",
              "    <tr>\n",
              "      <th>3</th>\n",
              "      <td>Basically there's a family where a little boy ...</td>\n",
              "      <td>negative</td>\n",
              "    </tr>\n",
              "    <tr>\n",
              "      <th>4</th>\n",
              "      <td>Petter Mattei's \"Love in the Time of Money\" is...</td>\n",
              "      <td>positive</td>\n",
              "    </tr>\n",
              "  </tbody>\n",
              "</table>\n",
              "</div>"
            ],
            "text/plain": [
              "                                              review sentiment\n",
              "0  One of the other reviewers has mentioned that ...  positive\n",
              "1  A wonderful little production. <br /><br />The...  positive\n",
              "2  I thought this was a wonderful way to spend ti...  positive\n",
              "3  Basically there's a family where a little boy ...  negative\n",
              "4  Petter Mattei's \"Love in the Time of Money\" is...  positive"
            ]
          },
          "metadata": {},
          "output_type": "display_data"
        }
      ],
      "source": [
        "datasets = pd.read_csv('drive/My Drive/Tugas Akhir/dataset_movie_review.csv')\n",
        "#datasets['sentiment'] = datasets['sentiment'].replace({'negative': 0, 'positive': 1})\n",
        "display(datasets.head())"
      ]
    },
    {
      "cell_type": "markdown",
      "metadata": {
        "id": "wsJF7UGWBsCw"
      },
      "source": [
        "Mengecek missing values"
      ]
    },
    {
      "cell_type": "code",
      "execution_count": null,
      "metadata": {
        "colab": {
          "base_uri": "https://localhost:8080/"
        },
        "id": "z9BpxRuSwSS7",
        "outputId": "30eda091-cbec-4c3f-92cf-692064e37b39"
      },
      "outputs": [
        {
          "data": {
            "text/plain": [
              "review       0\n",
              "sentiment    0\n",
              "dtype: int64"
            ]
          },
          "execution_count": 4,
          "metadata": {},
          "output_type": "execute_result"
        }
      ],
      "source": [
        "datasets.isna().sum()"
      ]
    },
    {
      "cell_type": "markdown",
      "metadata": {
        "id": "q6v1pDJDBvED"
      },
      "source": [
        "Mengecek apakah target memiliki imbalance data"
      ]
    },
    {
      "cell_type": "code",
      "execution_count": null,
      "metadata": {
        "colab": {
          "base_uri": "https://localhost:8080/",
          "height": 333
        },
        "id": "K16s6HrSvpZW",
        "outputId": "1b3bb7ea-511d-4315-b9bd-06ff68c1ccc2"
      },
      "outputs": [
        {
          "name": "stdout",
          "output_type": "stream",
          "text": [
            "positive    25000\n",
            "negative    25000\n",
            "Name: sentiment, dtype: int64\n"
          ]
        },
        {
          "data": {
            "text/plain": [
              "<matplotlib.axes._subplots.AxesSubplot at 0x7f7e71766b10>"
            ]
          },
          "execution_count": 5,
          "metadata": {},
          "output_type": "execute_result"
        },
        {
          "data": {
            "image/png": "[encoded data removed]",
            "text/plain": [
              "<Figure size 432x288 with 1 Axes>"
            ]
          },
          "metadata": {},
          "output_type": "display_data"
        }
      ],
      "source": [
        "sentiment_eq = datasets['sentiment'].value_counts()\n",
        "print(sentiment_eq)\n",
        "sns.barplot(sentiment_eq.index,sentiment_eq)"
      ]
    },
    {
      "cell_type": "markdown",
      "metadata": {
        "id": "r4E98JtFx_h9"
      },
      "source": [
        "Text Preprocessing"
      ]
    },
    {
      "cell_type": "markdown",
      "source": [
        "Melakukan pembersihan data mulai dari menghilangkan huruf non-alphabetical, tanda baca, dan case folding"
      ],
      "metadata": {
        "id": "5GmY9lsatbh8"
      }
    },
    {
      "cell_type": "code",
      "execution_count": null,
      "metadata": {
        "colab": {
          "base_uri": "https://localhost:8080/",
          "height": 204
        },
        "id": "I3R4oZ1dZtPK",
        "outputId": "814a035f-8d85-401e-f62e-03389612cbaf"
      },
      "outputs": [
        {
          "data": {
            "text/html": [
              "<div>\n",
              "<style scoped>\n",
              "    .dataframe tbody tr th:only-of-type {\n",
              "        vertical-align: middle;\n",
              "    }\n",
              "\n",
              "    .dataframe tbody tr th {\n",
              "        vertical-align: top;\n",
              "    }\n",
              "\n",
              "    .dataframe thead th {\n",
              "        text-align: right;\n",
              "    }\n",
              "</style>\n",
              "<table border=\"1\" class=\"dataframe\">\n",
              "  <thead>\n",
              "    <tr style=\"text-align: right;\">\n",
              "      <th></th>\n",
              "      <th>review</th>\n",
              "      <th>sentiment</th>\n",
              "    </tr>\n",
              "  </thead>\n",
              "  <tbody>\n",
              "    <tr>\n",
              "      <th>0</th>\n",
              "      <td>one of the other reviewers has mentioned that ...</td>\n",
              "      <td>positive</td>\n",
              "    </tr>\n",
              "    <tr>\n",
              "      <th>1</th>\n",
              "      <td>a wonderful little production the filming tech...</td>\n",
              "      <td>positive</td>\n",
              "    </tr>\n",
              "    <tr>\n",
              "      <th>2</th>\n",
              "      <td>i thought this was a wonderful way to spend ti...</td>\n",
              "      <td>positive</td>\n",
              "    </tr>\n",
              "    <tr>\n",
              "      <th>3</th>\n",
              "      <td>basically there s a family where a little boy ...</td>\n",
              "      <td>negative</td>\n",
              "    </tr>\n",
              "    <tr>\n",
              "      <th>4</th>\n",
              "      <td>petter mattei s love in the time of money is a...</td>\n",
              "      <td>positive</td>\n",
              "    </tr>\n",
              "  </tbody>\n",
              "</table>\n",
              "</div>"
            ],
            "text/plain": [
              "                                              review sentiment\n",
              "0  one of the other reviewers has mentioned that ...  positive\n",
              "1  a wonderful little production the filming tech...  positive\n",
              "2  i thought this was a wonderful way to spend ti...  positive\n",
              "3  basically there s a family where a little boy ...  negative\n",
              "4  petter mattei s love in the time of money is a...  positive"
            ]
          },
          "execution_count": 5,
          "metadata": {},
          "output_type": "execute_result"
        }
      ],
      "source": [
        "review_data = datasets\n",
        "re_list = ['https?://\\S+|www\\.\\S+', '<.*?>', \n",
        "                           \"[\"u\"\\U0001F600-\\U0001F64F\"  # emoticons\n",
        "                              u\"\\U0001F300-\\U0001F5FF\"  # symbols & pictographs\n",
        "                              u\"\\U0001F680-\\U0001F6FF\"  # transport & map symbols\n",
        "                              u\"\\U0001F1E0-\\U0001F1FF\"  # flags (iOS)\n",
        "                              u\"\\U00002702-\\U000027B0\"\n",
        "                              u\"\\U000024C2-\\U0001F251\"\n",
        "                           \"]+\"]\n",
        "review_data['review'] = review_data['review'].apply(lambda x: re.compile( '|'.join(re_list)).sub(f'', x))\n",
        "review_data['review'] = review_data['review'].str.replace(\"[^a-zA-Z#]\", \" \")\n",
        "review_data['review'] = review_data['review'].apply(lambda x : \" \".join(x.lower() for x in x.split()) )\n",
        "review_data['review'] = review_data['review'].apply(lambda x: x.replace('#',''))\n",
        "\n",
        "\n",
        "review_data.head()"
      ]
    },
    {
      "cell_type": "markdown",
      "metadata": {
        "id": "JxmhUInZyCYc"
      },
      "source": [
        "berikutnya masuk ke tahap Lemmatization, stopword removal, tag, dan tokenisasi data"
      ]
    },
    {
      "cell_type": "code",
      "execution_count": null,
      "metadata": {
        "id": "Ft89khdtUB0_"
      },
      "outputs": [],
      "source": [
        "review_data['review'] = [word_tokenize(entry) for entry in review_data['review']]\n",
        "\n",
        "tag_map = defaultdict(lambda : wn.NOUN)\n",
        "tag_map['J'] = wn.ADJ\n",
        "tag_map['V'] = wn.VERB\n",
        "tag_map['R'] = wn.ADV\n",
        "\n",
        "for index,entry in enumerate(review_data['review']):\n",
        "    # Declaring Empty List to store the words that follow the rules for this step\n",
        "    Final_words = []\n",
        "    # Initializing WordNetLemmatizer()\n",
        "    word_Lemmatized = WordNetLemmatizer()\n",
        "    # pos_tag function below will provide the 'tag' i.e if the word is Noun(N) or Verb(V) or something else.\n",
        "    for word, tag in pos_tag(entry):\n",
        "        # Below condition is to check for Stop words and consider only alphabets\n",
        "        if word not in stopwords.words('english') and word.isalpha():\n",
        "            word_Final = word_Lemmatized.lemmatize(word,tag_map[tag[0]])\n",
        "            Final_words.append(word_Final)\n",
        "    # The final processed set of words for each iteration will be stored in 'text_final'\n",
        "    review_data.loc[index,'unigram'] = str(Final_words)"
      ]
    },
    {
      "cell_type": "code",
      "execution_count": null,
      "metadata": {
        "colab": {
          "base_uri": "https://localhost:8080/",
          "height": 204
        },
        "id": "ZvHI6SbarzRK",
        "outputId": "39956d81-be87-4bed-d741-5e760e37ac07"
      },
      "outputs": [
        {
          "data": {
            "text/html": [
              "<div>\n",
              "<style scoped>\n",
              "    .dataframe tbody tr th:only-of-type {\n",
              "        vertical-align: middle;\n",
              "    }\n",
              "\n",
              "    .dataframe tbody tr th {\n",
              "        vertical-align: top;\n",
              "    }\n",
              "\n",
              "    .dataframe thead th {\n",
              "        text-align: right;\n",
              "    }\n",
              "</style>\n",
              "<table border=\"1\" class=\"dataframe\">\n",
              "  <thead>\n",
              "    <tr style=\"text-align: right;\">\n",
              "      <th></th>\n",
              "      <th>review</th>\n",
              "      <th>sentiment</th>\n",
              "      <th>unigram</th>\n",
              "    </tr>\n",
              "  </thead>\n",
              "  <tbody>\n",
              "    <tr>\n",
              "      <th>0</th>\n",
              "      <td>[one, of, the, other, reviewers, has, mentione...</td>\n",
              "      <td>positive</td>\n",
              "      <td>['one', 'reviewer', 'mention', 'watch', 'oz', ...</td>\n",
              "    </tr>\n",
              "    <tr>\n",
              "      <th>1</th>\n",
              "      <td>[a, wonderful, little, production, the, filmin...</td>\n",
              "      <td>positive</td>\n",
              "      <td>['wonderful', 'little', 'production', 'filming...</td>\n",
              "    </tr>\n",
              "    <tr>\n",
              "      <th>2</th>\n",
              "      <td>[i, thought, this, was, a, wonderful, way, to,...</td>\n",
              "      <td>positive</td>\n",
              "      <td>['think', 'wonderful', 'way', 'spend', 'time',...</td>\n",
              "    </tr>\n",
              "    <tr>\n",
              "      <th>3</th>\n",
              "      <td>[basically, there, s, a, family, where, a, lit...</td>\n",
              "      <td>negative</td>\n",
              "      <td>['basically', 'family', 'little', 'boy', 'jake...</td>\n",
              "    </tr>\n",
              "    <tr>\n",
              "      <th>4</th>\n",
              "      <td>[petter, mattei, s, love, in, the, time, of, m...</td>\n",
              "      <td>positive</td>\n",
              "      <td>['petter', 'mattei', 'love', 'time', 'money', ...</td>\n",
              "    </tr>\n",
              "  </tbody>\n",
              "</table>\n",
              "</div>"
            ],
            "text/plain": [
              "                                              review  ...                                            unigram\n",
              "0  [one, of, the, other, reviewers, has, mentione...  ...  ['one', 'reviewer', 'mention', 'watch', 'oz', ...\n",
              "1  [a, wonderful, little, production, the, filmin...  ...  ['wonderful', 'little', 'production', 'filming...\n",
              "2  [i, thought, this, was, a, wonderful, way, to,...  ...  ['think', 'wonderful', 'way', 'spend', 'time',...\n",
              "3  [basically, there, s, a, family, where, a, lit...  ...  ['basically', 'family', 'little', 'boy', 'jake...\n",
              "4  [petter, mattei, s, love, in, the, time, of, m...  ...  ['petter', 'mattei', 'love', 'time', 'money', ...\n",
              "\n",
              "[5 rows x 3 columns]"
            ]
          },
          "execution_count": 8,
          "metadata": {},
          "output_type": "execute_result"
        }
      ],
      "source": [
        "review_data.head()"
      ]
    },
    {
      "cell_type": "code",
      "execution_count": null,
      "metadata": {
        "id": "XNpIxM-qpGlb"
      },
      "outputs": [],
      "source": [
        "review_data.to_csv('review_data_Preprocessing.csv') \n",
        "files.download('review_data_Preprocessing.csv')"
      ]
    },
    {
      "cell_type": "markdown",
      "metadata": {
        "id": "og-LcBU8uaRG"
      },
      "source": [
        "Pengecekan dan penyiapan dataset untuk digunakan ke tahap berikutnya"
      ]
    },
    {
      "cell_type": "code",
      "execution_count": 2,
      "metadata": {
        "colab": {
          "base_uri": "https://localhost:8080/",
          "height": 206
        },
        "id": "74PpraHAuho0",
        "outputId": "333eee6e-877c-4ed8-8e56-1526c9091464"
      },
      "outputs": [
        {
          "output_type": "display_data",
          "data": {
            "text/html": [
              "\n",
              "  <div id=\"df-0fa61a5b-e1ca-4793-b480-8d7ac0ebb92d\">\n",
              "    <div class=\"colab-df-container\">\n",
              "      <div>\n",
              "<style scoped>\n",
              "    .dataframe tbody tr th:only-of-type {\n",
              "        vertical-align: middle;\n",
              "    }\n",
              "\n",
              "    .dataframe tbody tr th {\n",
              "        vertical-align: top;\n",
              "    }\n",
              "\n",
              "    .dataframe thead th {\n",
              "        text-align: right;\n",
              "    }\n",
              "</style>\n",
              "<table border=\"1\" class=\"dataframe\">\n",
              "  <thead>\n",
              "    <tr style=\"text-align: right;\">\n",
              "      <th></th>\n",
              "      <th>Unnamed: 0</th>\n",
              "      <th>review</th>\n",
              "      <th>sentiment</th>\n",
              "      <th>unigram</th>\n",
              "    </tr>\n",
              "  </thead>\n",
              "  <tbody>\n",
              "    <tr>\n",
              "      <th>0</th>\n",
              "      <td>0</td>\n",
              "      <td>['one', 'of', 'the', 'other', 'reviewers', 'ha...</td>\n",
              "      <td>positive</td>\n",
              "      <td>['one', 'reviewer', 'mention', 'watch', 'oz', ...</td>\n",
              "    </tr>\n",
              "    <tr>\n",
              "      <th>1</th>\n",
              "      <td>1</td>\n",
              "      <td>['a', 'wonderful', 'little', 'production', 'th...</td>\n",
              "      <td>positive</td>\n",
              "      <td>['wonderful', 'little', 'production', 'filming...</td>\n",
              "    </tr>\n",
              "    <tr>\n",
              "      <th>2</th>\n",
              "      <td>2</td>\n",
              "      <td>['i', 'thought', 'this', 'was', 'a', 'wonderfu...</td>\n",
              "      <td>positive</td>\n",
              "      <td>['think', 'wonderful', 'way', 'spend', 'time',...</td>\n",
              "    </tr>\n",
              "    <tr>\n",
              "      <th>3</th>\n",
              "      <td>3</td>\n",
              "      <td>['basically', 'there', 's', 'a', 'family', 'wh...</td>\n",
              "      <td>negative</td>\n",
              "      <td>['basically', 'family', 'little', 'boy', 'jake...</td>\n",
              "    </tr>\n",
              "    <tr>\n",
              "      <th>4</th>\n",
              "      <td>4</td>\n",
              "      <td>['petter', 'mattei', 's', 'love', 'in', 'the',...</td>\n",
              "      <td>positive</td>\n",
              "      <td>['petter', 'mattei', 'love', 'time', 'money', ...</td>\n",
              "    </tr>\n",
              "  </tbody>\n",
              "</table>\n",
              "</div>\n",
              "      <button class=\"colab-df-convert\" onclick=\"convertToInteractive('df-0fa61a5b-e1ca-4793-b480-8d7ac0ebb92d')\"\n",
              "              title=\"Convert this dataframe to an interactive table.\"\n",
              "              style=\"display:none;\">\n",
              "        \n",
              "  <svg xmlns=\"http://www.w3.org/2000/svg\" height=\"24px\"viewBox=\"0 0 24 24\"\n",
              "       width=\"24px\">\n",
              "    <path d=\"M0 0h24v24H0V0z\" fill=\"none\"/>\n",
              "    <path d=\"M18.56 5.44l.94 2.06.94-2.06 2.06-.94-2.06-.94-.94-2.06-.94 2.06-2.06.94zm-11 1L8.5 8.5l.94-2.06 2.06-.94-2.06-.94L8.5 2.5l-.94 2.06-2.06.94zm10 10l.94 2.06.94-2.06 2.06-.94-2.06-.94-.94-2.06-.94 2.06-2.06.94z\"/><path d=\"M17.41 7.96l-1.37-1.37c-.4-.4-.92-.59-1.43-.59-.52 0-1.04.2-1.43.59L10.3 9.45l-7.72 7.72c-.78.78-.78 2.05 0 2.83L4 21.41c.39.39.9.59 1.41.59.51 0 1.02-.2 1.41-.59l7.78-7.78 2.81-2.81c.8-.78.8-2.07 0-2.86zM5.41 20L4 18.59l7.72-7.72 1.47 1.35L5.41 20z\"/>\n",
              "  </svg>\n",
              "      </button>\n",
              "      \n",
              "  <style>\n",
              "    .colab-df-container {\n",
              "      display:flex;\n",
              "      flex-wrap:wrap;\n",
              "      gap: 12px;\n",
              "    }\n",
              "\n",
              "    .colab-df-convert {\n",
              "      background-color: #E8F0FE;\n",
              "      border: none;\n",
              "      border-radius: 50%;\n",
              "      cursor: pointer;\n",
              "      display: none;\n",
              "      fill: #1967D2;\n",
              "      height: 32px;\n",
              "      padding: 0 0 0 0;\n",
              "      width: 32px;\n",
              "    }\n",
              "\n",
              "    .colab-df-convert:hover {\n",
              "      background-color: #E2EBFA;\n",
              "      box-shadow: 0px 1px 2px rgba(60, 64, 67, 0.3), 0px 1px 3px 1px rgba(60, 64, 67, 0.15);\n",
              "      fill: #174EA6;\n",
              "    }\n",
              "\n",
              "    [theme=dark] .colab-df-convert {\n",
              "      background-color: #3B4455;\n",
              "      fill: #D2E3FC;\n",
              "    }\n",
              "\n",
              "    [theme=dark] .colab-df-convert:hover {\n",
              "      background-color: #434B5C;\n",
              "      box-shadow: 0px 1px 3px 1px rgba(0, 0, 0, 0.15);\n",
              "      filter: drop-shadow(0px 1px 2px rgba(0, 0, 0, 0.3));\n",
              "      fill: #FFFFFF;\n",
              "    }\n",
              "  </style>\n",
              "\n",
              "      <script>\n",
              "        const buttonEl =\n",
              "          document.querySelector('#df-0fa61a5b-e1ca-4793-b480-8d7ac0ebb92d button.colab-df-convert');\n",
              "        buttonEl.style.display =\n",
              "          google.colab.kernel.accessAllowed ? 'block' : 'none';\n",
              "\n",
              "        async function convertToInteractive(key) {\n",
              "          const element = document.querySelector('#df-0fa61a5b-e1ca-4793-b480-8d7ac0ebb92d');\n",
              "          const dataTable =\n",
              "            await google.colab.kernel.invokeFunction('convertToInteractive',\n",
              "                                                     [key], {});\n",
              "          if (!dataTable) return;\n",
              "\n",
              "          const docLinkHtml = 'Like what you see? Visit the ' +\n",
              "            '<a target=\"_blank\" href=https://colab.research.google.com/notebooks/data_table.ipynb>data table notebook</a>'\n",
              "            + ' to learn more about interactive tables.';\n",
              "          element.innerHTML = '';\n",
              "          dataTable['output_type'] = 'display_data';\n",
              "          await google.colab.output.renderOutput(dataTable, element);\n",
              "          const docLink = document.createElement('div');\n",
              "          docLink.innerHTML = docLinkHtml;\n",
              "          element.appendChild(docLink);\n",
              "        }\n",
              "      </script>\n",
              "    </div>\n",
              "  </div>\n",
              "  "
            ],
            "text/plain": [
              "   Unnamed: 0  ...                                            unigram\n",
              "0           0  ...  ['one', 'reviewer', 'mention', 'watch', 'oz', ...\n",
              "1           1  ...  ['wonderful', 'little', 'production', 'filming...\n",
              "2           2  ...  ['think', 'wonderful', 'way', 'spend', 'time',...\n",
              "3           3  ...  ['basically', 'family', 'little', 'boy', 'jake...\n",
              "4           4  ...  ['petter', 'mattei', 'love', 'time', 'money', ...\n",
              "\n",
              "[5 rows x 4 columns]"
            ]
          },
          "metadata": {}
        }
      ],
      "source": [
        "clean_data = pd.read_csv('drive/My Drive/Tugas Akhir/review_data_Preprocessing.csv')\n",
        "display(clean_data.head())"
      ]
    },
    {
      "cell_type": "markdown",
      "metadata": {
        "id": "kePFBcIvyT_t"
      },
      "source": [
        "Memisahkan data kedalam variable X dan y"
      ]
    },
    {
      "cell_type": "code",
      "execution_count": 3,
      "metadata": {
        "id": "Gu_JCkxhj4r6"
      },
      "outputs": [],
      "source": [
        "X = clean_data['unigram']\n",
        "y = clean_data.sentiment"
      ]
    },
    {
      "cell_type": "markdown",
      "metadata": {
        "id": "6wOAEdqbyXBQ"
      },
      "source": [
        "Encode data"
      ]
    },
    {
      "cell_type": "code",
      "execution_count": 4,
      "metadata": {
        "id": "hEWtzId7kcxn"
      },
      "outputs": [],
      "source": [
        "Encoder = LabelEncoder()\n",
        "y = Encoder.fit_transform(y)"
      ]
    },
    {
      "cell_type": "markdown",
      "metadata": {
        "id": "KkYF3aXti_Pi"
      },
      "source": [
        "Feature extraction"
      ]
    },
    {
      "cell_type": "code",
      "execution_count": 5,
      "metadata": {
        "id": "FRKTP7qoh5aE"
      },
      "outputs": [],
      "source": [
        "# banyaknya term yang akan digunakan, \n",
        "# di pilih berdasarkan top max_features \n",
        "# yang diurutkan berdasarkan term frequency seluruh corpus\n",
        "max_features = 3000\n",
        "\n",
        "\n",
        "def generate_tfidf_mat(min_gram, max_gram):\n",
        "    cvect = CountVectorizer(max_features=max_features, ngram_range=(min_gram, max_gram))\n",
        "    counts = cvect.fit_transform(X)\n",
        "\n",
        "    normalized_counts = normalize(counts, norm='l1', axis=1)\n",
        "\n",
        "    tfidf = TfidfVectorizer(max_features=max_features, ngram_range=(min_gram, max_gram), smooth_idf=False)\n",
        "    tfs = tfidf.fit_transform(X)\n",
        "\n",
        "    tfidf_mat = normalized_counts.multiply(tfidf.idf_).toarray()\n",
        "    \n",
        "    TF = normalized_counts.toarray()\n",
        "    IDF = tfidf.idf_\n",
        "    TF_IDF = tfidf_mat\n",
        "    return TF, IDF, TF_IDF, tfidf.get_feature_names()\n",
        "\n",
        "# ngram_range (1, 1) to use unigram only\n",
        "tf_mat_unigram, idf_mat_unigram, tfidf_mat_unigram, terms_unigram = generate_tfidf_mat(1,1)\n",
        "\n",
        "# ngram_range (2, 2) to use bigram only\n",
        "tf_mat_bigram, idf_mat_bigram, tfidf_mat_bigram, terms_bigram = generate_tfidf_mat(2,2)\n",
        "\n",
        "# ngram_range (3, 3) to use trigram only\n",
        "#tf_mat_trigram, idf_mat_trigram, tfidf_mat_trigram, terms_trigram = generate_tfidf_mat(3,3)\n"
      ]
    },
    {
      "cell_type": "markdown",
      "source": [
        "Mengecek sparse data"
      ],
      "metadata": {
        "id": "j1tuJ1Z4wCDQ"
      }
    },
    {
      "cell_type": "code",
      "execution_count": null,
      "metadata": {
        "colab": {
          "base_uri": "https://localhost:8080/"
        },
        "id": "DCVy54SNjd8i",
        "outputId": "7d0a6ef0-b363-4657-bb08-d0d2b9152500"
      },
      "outputs": [
        {
          "output_type": "stream",
          "name": "stdout",
          "text": [
            "Show TFIDF sample ke-1 \n",
            "\n",
            "['a', 'wonderful', 'little', 'production', 'the', 'filming', 'technique', 'is', 'very', 'unassuming', 'very', 'old', 'time', 'bbc', 'fashion', 'and', 'gives', 'a', 'comforting', 'and', 'sometimes', 'discomforting', 'sense', 'of', 'realism', 'to', 'the', 'entire', 'piece', 'the', 'actors', 'are', 'extremely', 'well', 'chosen', 'michael', 'sheen', 'not', 'only', 'has', 'got', 'all', 'the', 'polari', 'but', 'he', 'has', 'all', 'the', 'voices', 'down', 'pat', 'too', 'you', 'can', 'truly', 'see', 'the', 'seamless', 'editing', 'guided', 'by', 'the', 'references', 'to', 'williams', 'diary', 'entries', 'not', 'only', 'is', 'it', 'well', 'worth', 'the', 'watching', 'but', 'it', 'is', 'a', 'terrificly', 'written', 'and', 'performed', 'piece', 'a', 'masterful', 'production', 'about', 'one', 'of', 'the', 'great', 'master', 's', 'of', 'comedy', 'and', 'his', 'life', 'the', 'realism', 'really', 'comes', 'home', 'with', 'the', 'little', 'things', 'the', 'fantasy', 'of', 'the', 'guard', 'which', 'rather', 'than', 'use', 'the', 'traditional', 'dream', 'techniques', 'remains', 'solid', 'then', 'disappears', 'it', 'plays', 'on', 'our', 'knowledge', 'and', 'our', 'senses', 'particularly', 'with', 'the', 'scenes', 'concerning', 'orton', 'and', 'halliwell', 'and', 'the', 'sets', 'particularly', 'of', 'their', 'flat', 'with', 'halliwell', 's', 'murals', 'decorating', 'every', 'surface', 'are', 'terribly', 'well', 'done'] \n",
            "\n",
            "\t\t\t TF \t\t IDF \t\t TF-IDF \t Term\n",
            "\n",
            "array position 3\t 0.007519 \t 1.879236 \t 0.014130 \t about\n",
            "array position 27\t 0.007519 \t 2.929781 \t 0.022028 \t actors\n",
            "array position 74\t 0.015038 \t 1.658012 \t 0.024933 \t all\n",
            "array position 102\t 0.052632 \t 1.034612 \t 0.054453 \t and\n",
            "array position 146\t 0.015038 \t 1.593664 \t 0.023965 \t are\n",
            "array position 224\t 0.007519 \t 5.984968 \t 0.045000 \t bbc\n",
            "array position 344\t 0.015038 \t 1.334466 \t 0.020067 \t but\n",
            "array position 347\t 0.007519 \t 1.761683 \t 0.013246 \t by\n",
            "array position 362\t 0.007519 \t 1.916291 \t 0.014408 \t can\n",
            "array position 439\t 0.007519 \t 5.798755 \t 0.043600 \t chosen\n",
            "array position 485\t 0.007519 \t 3.358732 \t 0.025254 \t comedy\n",
            "array position 486\t 0.007519 \t 3.482669 \t 0.026185 \t comes\n",
            "array position 732\t 0.007519 \t 3.248855 \t 0.024427 \t done\n",
            "array position 737\t 0.007519 \t 3.086990 \t 0.023210 \t down\n",
            "array position 749\t 0.007519 \t 4.896150 \t 0.036813 \t dream\n",
            "array position 788\t 0.007519 \t 4.604538 \t 0.034621 \t editing\n",
            "array position 831\t 0.007519 \t 3.978679 \t 0.029915 \t entire\n",
            "array position 855\t 0.007519 \t 3.030118 \t 0.022783 \t every\n",
            "array position 902\t 0.007519 \t 4.260219 \t 0.032032 \t extremely\n",
            "array position 936\t 0.007519 \t 5.010739 \t 0.037675 \t fantasy\n",
            "array position 940\t 0.007519 \t 5.356749 \t 0.040276 \t fashion\n",
            "array position 981\t 0.007519 \t 5.202375 \t 0.039116 \t filming\n",
            "array position 1004\t 0.007519 \t 4.912023 \t 0.036933 \t flat\n",
            "array position 1115\t 0.007519 \t 3.902242 \t 0.029340 \t gives\n",
            "array position 1133\t 0.007519 \t 3.105868 \t 0.023352 \t got\n",
            "array position 1145\t 0.007519 \t 2.380471 \t 0.017898 \t great\n",
            "array position 1161\t 0.007519 \t 6.192157 \t 0.046558 \t guard\n",
            "array position 1198\t 0.015038 \t 1.919446 \t 0.028864 \t has\n",
            "array position 1208\t 0.007519 \t 1.895361 \t 0.014251 \t he\n",
            "array position 1249\t 0.007519 \t 1.860714 \t 0.013990 \t his\n",
            "array position 1264\t 0.007519 \t 3.793281 \t 0.028521 \t home\n",
            "array position 1378\t 0.022556 \t 1.111490 \t 0.025071 \t is\n",
            "array position 1383\t 0.022556 \t 1.116287 \t 0.025179 \t it\n",
            "array position 1459\t 0.007519 \t 5.565949 \t 0.041849 \t knowledge\n",
            "array position 1527\t 0.007519 \t 2.707933 \t 0.020360 \t life\n",
            "array position 1546\t 0.015038 \t 2.667067 \t 0.040106 \t little\n",
            "array position 1630\t 0.007519 \t 5.136417 \t 0.038620 \t master\n",
            "array position 1674\t 0.007519 \t 4.322017 \t 0.032496 \t michael\n",
            "array position 1804\t 0.015038 \t 1.502328 \t 0.022591 \t not\n",
            "array position 1831\t 0.037594 \t 1.052684 \t 0.039575 \t of\n",
            "array position 1843\t 0.007519 \t 3.006935 \t 0.022609 \t old\n",
            "array position 1846\t 0.007519 \t 1.465661 \t 0.011020 \t on\n",
            "array position 1848\t 0.007519 \t 1.564402 \t 0.011762 \t one\n",
            "array position 1850\t 0.015038 \t 2.110665 \t 0.031739 \t only\n",
            "array position 1870\t 0.015038 \t 3.606939 \t 0.054240 \t our\n",
            "array position 1900\t 0.015038 \t 4.279688 \t 0.064356 \t particularly\n",
            "array position 1923\t 0.007519 \t 5.876979 \t 0.044188 \t performed\n",
            "array position 1941\t 0.015038 \t 3.912495 \t 0.058835 \t piece\n",
            "array position 1960\t 0.007519 \t 3.608839 \t 0.027134 \t plays\n",
            "array position 2029\t 0.015038 \t 3.823798 \t 0.057501 \t production\n",
            "array position 2089\t 0.007519 \t 3.440698 \t 0.025870 \t rather\n",
            "array position 2101\t 0.015038 \t 5.558287 \t 0.083583 \t realism\n",
            "array position 2107\t 0.007519 \t 2.200844 \t 0.016548 \t really\n",
            "array position 2121\t 0.007519 \t 5.577555 \t 0.041937 \t references\n",
            "array position 2139\t 0.007519 \t 5.146480 \t 0.038695 \t remains\n",
            "array position 2252\t 0.007519 \t 2.846934 \t 0.021406 \t scenes\n",
            "array position 2279\t 0.007519 \t 2.123130 \t 0.015963 \t see\n",
            "array position 2294\t 0.007519 \t 3.539321 \t 0.026611 \t sense\n",
            "array position 2311\t 0.007519 \t 4.485449 \t 0.033725 \t sets\n",
            "array position 2403\t 0.007519 \t 5.031933 \t 0.037834 \t solid\n",
            "array position 2409\t 0.007519 \t 4.229937 \t 0.031804 \t sometimes\n",
            "array position 2562\t 0.007519 \t 5.845969 \t 0.043955 \t surface\n",
            "array position 2605\t 0.007519 \t 6.195761 \t 0.046585 \t technique\n",
            "array position 2626\t 0.007519 \t 5.609178 \t 0.042174 \t terribly\n",
            "array position 2632\t 0.007519 \t 2.274181 \t 0.017099 \t than\n",
            "array position 2638\t 0.120301 \t 1.008839 \t 0.121364 \t the\n",
            "array position 2643\t 0.007519 \t 2.283232 \t 0.017167 \t their\n",
            "array position 2648\t 0.007519 \t 2.497807 \t 0.018781 \t then\n",
            "array position 2657\t 0.007519 \t 3.123435 \t 0.023484 \t things\n",
            "array position 2682\t 0.007519 \t 2.059584 \t 0.015486 \t time\n",
            "array position 2689\t 0.015038 \t 1.062365 \t 0.015975 \t to\n",
            "array position 2698\t 0.007519 \t 2.491566 \t 0.018734 \t too\n",
            "array position 2717\t 0.007519 \t 5.818363 \t 0.043747 \t traditional\n",
            "array position 2740\t 0.007519 \t 3.800494 \t 0.028575 \t truly\n",
            "array position 2801\t 0.007519 \t 3.760502 \t 0.028274 \t use\n",
            "array position 2821\t 0.015038 \t 2.069325 \t 0.031118 \t very\n",
            "array position 2849\t 0.007519 \t 5.851071 \t 0.043993 \t voices\n",
            "array position 2881\t 0.007519 \t 2.883349 \t 0.021679 \t watching\n",
            "array position 2900\t 0.022556 \t 2.203906 \t 0.049712 \t well\n",
            "array position 2917\t 0.007519 \t 2.210125 \t 0.016617 \t which\n",
            "array position 2932\t 0.007519 \t 5.762994 \t 0.043331 \t williams\n",
            "array position 2945\t 0.022556 \t 1.363096 \t 0.030747 \t with\n",
            "array position 2955\t 0.007519 \t 3.890652 \t 0.029253 \t wonderful\n",
            "array position 2971\t 0.007519 \t 3.458537 \t 0.026004 \t worth\n",
            "array position 2981\t 0.007519 \t 3.866460 \t 0.029071 \t written\n",
            "array position 2991\t 0.007519 \t 1.601845 \t 0.012044 \t you\n"
          ]
        }
      ],
      "source": [
        "#unigram\n",
        "idx_sample = 1\n",
        "\n",
        "print(\"Show TFIDF sample ke-\" + str(idx_sample), \"\\n\")\n",
        "print(X[idx_sample], \"\\n\")\n",
        "\n",
        "print(\"\\t\\t\\t\", \"TF\", \"\\t\\t\", \"IDF\", \"\\t\\t\", \"TF-IDF\", \"\\t\", \"Term\\n\")\n",
        "for i, item in enumerate(zip(tf_mat_unigram[idx_sample], idf_mat_unigram, tfidf_mat_unigram[idx_sample], terms_unigram)):\n",
        "    if(item[2] != 0.0):\n",
        "        print (\"array position \" + str(i) + \"\\t\", \n",
        "               \"%.6f\" % item[0], \"\\t\", \n",
        "               \"%.6f\" % item[1], \"\\t\", \n",
        "               \"%.6f\" % item[2], \"\\t\", \n",
        "               item[3])"
      ]
    },
    {
      "cell_type": "code",
      "execution_count": null,
      "metadata": {
        "colab": {
          "base_uri": "https://localhost:8080/"
        },
        "id": "dV2SLr3wDkcg",
        "outputId": "fa164c9c-a01a-46b8-8656-e86a63ba2fa1"
      },
      "outputs": [
        {
          "output_type": "stream",
          "name": "stdout",
          "text": [
            "Show TFIDF sample ke-1 \n",
            "\n",
            "['a', 'wonderful', 'little', 'production', 'the', 'filming', 'technique', 'is', 'very', 'unassuming', 'very', 'old', 'time', 'bbc', 'fashion', 'and', 'gives', 'a', 'comforting', 'and', 'sometimes', 'discomforting', 'sense', 'of', 'realism', 'to', 'the', 'entire', 'piece', 'the', 'actors', 'are', 'extremely', 'well', 'chosen', 'michael', 'sheen', 'not', 'only', 'has', 'got', 'all', 'the', 'polari', 'but', 'he', 'has', 'all', 'the', 'voices', 'down', 'pat', 'too', 'you', 'can', 'truly', 'see', 'the', 'seamless', 'editing', 'guided', 'by', 'the', 'references', 'to', 'williams', 'diary', 'entries', 'not', 'only', 'is', 'it', 'well', 'worth', 'the', 'watching', 'but', 'it', 'is', 'a', 'terrificly', 'written', 'and', 'performed', 'piece', 'a', 'masterful', 'production', 'about', 'one', 'of', 'the', 'great', 'master', 's', 'of', 'comedy', 'and', 'his', 'life', 'the', 'realism', 'really', 'comes', 'home', 'with', 'the', 'little', 'things', 'the', 'fantasy', 'of', 'the', 'guard', 'which', 'rather', 'than', 'use', 'the', 'traditional', 'dream', 'techniques', 'remains', 'solid', 'then', 'disappears', 'it', 'plays', 'on', 'our', 'knowledge', 'and', 'our', 'senses', 'particularly', 'with', 'the', 'scenes', 'concerning', 'orton', 'and', 'halliwell', 'and', 'the', 'sets', 'particularly', 'of', 'their', 'flat', 'with', 'halliwell', 's', 'murals', 'decorating', 'every', 'surface', 'are', 'terribly', 'well', 'done'] \n",
            "\n",
            "\t\t\t TF \t\t IDF \t\t TF-IDF \t Term\n",
            "\n",
            "array position 29\t 0.023810 \t 5.318489 \t 0.126631 \t actors are\n",
            "array position 61\t 0.047619 \t 2.882166 \t 0.137246 \t all the\n",
            "array position 131\t 0.023810 \t 3.623893 \t 0.086283 \t and his\n",
            "array position 170\t 0.023810 \t 5.958992 \t 0.141881 \t and sometimes\n",
            "array position 173\t 0.023810 \t 1.985480 \t 0.047273 \t and the\n",
            "array position 390\t 0.023810 \t 4.320355 \t 0.102866 \t but he\n",
            "array position 397\t 0.023810 \t 2.999817 \t 0.071424 \t but it\n",
            "array position 431\t 0.023810 \t 2.843137 \t 0.067694 \t by the\n",
            "array position 483\t 0.023810 \t 5.650168 \t 0.134528 \t comedy and\n",
            "array position 885\t 0.023810 \t 4.068303 \t 0.096864 \t he has\n",
            "array position 945\t 0.023810 \t 5.003042 \t 0.119120 \t his life\n",
            "array position 1112\t 0.023810 \t 4.484144 \t 0.106765 \t is it\n",
            "array position 1161\t 0.023810 \t 3.609654 \t 0.085944 \t is very\n",
            "array position 1206\t 0.023810 \t 2.326442 \t 0.055391 \t it is\n",
            "array position 1248\t 0.023810 \t 5.917145 \t 0.140884 \t it well\n",
            "array position 1307\t 0.023810 \t 5.726209 \t 0.136338 \t life the\n",
            "array position 1574\t 0.047619 \t 4.167233 \t 0.198440 \t not only\n",
            "array position 1608\t 0.023810 \t 5.973340 \t 0.142222 \t of comedy\n",
            "array position 1642\t 0.047619 \t 1.435718 \t 0.068368 \t of the\n",
            "array position 1643\t 0.023810 \t 4.169134 \t 0.099265 \t of their\n",
            "array position 1709\t 0.023810 \t 2.380312 \t 0.056674 \t one of\n",
            "array position 1815\t 0.023810 \t 4.581281 \t 0.109078 \t rather than\n",
            "array position 1892\t 0.023810 \t 3.939730 \t 0.093803 \t see the\n",
            "array position 1909\t 0.023810 \t 4.379045 \t 0.104263 \t sense of\n",
            "array position 2103\t 0.023810 \t 3.865406 \t 0.092033 \t the actors\n",
            "array position 2170\t 0.023810 \t 4.258657 \t 0.101397 \t the entire\n",
            "array position 2196\t 0.023810 \t 4.608960 \t 0.109737 \t the great\n",
            "array position 2230\t 0.023810 \t 5.302107 \t 0.126241 \t the little\n",
            "array position 2302\t 0.023810 \t 4.645054 \t 0.110597 \t the scenes\n",
            "array position 2310\t 0.023810 \t 5.950481 \t 0.141678 \t the sets\n",
            "array position 2610\t 0.023810 \t 2.125038 \t 0.050596 \t to the\n",
            "array position 2671\t 0.023810 \t 5.953310 \t 0.141745 \t use the\n",
            "array position 2786\t 0.023810 \t 5.028557 \t 0.119728 \t well done\n",
            "array position 2793\t 0.023810 \t 5.621300 \t 0.133840 \t well worth\n",
            "array position 2904\t 0.047619 \t 2.426200 \t 0.115533 \t with the\n",
            "array position 2931\t 0.023810 \t 5.434584 \t 0.129395 \t worth the\n",
            "array position 2945\t 0.023810 \t 5.633570 \t 0.134133 \t written and\n",
            "array position 2961\t 0.023810 \t 3.374081 \t 0.080335 \t you can\n"
          ]
        }
      ],
      "source": [
        "#bigram\n",
        "idx_sample = 1\n",
        "\n",
        "print(\"Show TFIDF sample ke-\" + str(idx_sample), \"\\n\")\n",
        "print(X[idx_sample], \"\\n\")\n",
        "\n",
        "print(\"\\t\\t\\t\", \"TF\", \"\\t\\t\", \"IDF\", \"\\t\\t\", \"TF-IDF\", \"\\t\", \"Term\\n\")\n",
        "for i, item in enumerate(zip(tf_mat_bigram[idx_sample], idf_mat_bigram, tfidf_mat_bigram[idx_sample], terms_bigram)):\n",
        "    if(item[2] != 0.0):\n",
        "        print (\"array position \" + str(i) + \"\\t\", \n",
        "               \"%.6f\" % item[0], \"\\t\", \n",
        "               \"%.6f\" % item[1], \"\\t\", \n",
        "               \"%.6f\" % item[2], \"\\t\", \n",
        "               item[3])"
      ]
    },
    {
      "cell_type": "markdown",
      "source": [
        "Membuat fungsi untuk menyimpan data ke excel"
      ],
      "metadata": {
        "id": "39qwp4u_v3e2"
      }
    },
    {
      "cell_type": "code",
      "source": [
        "def get_TF_unigram(row):\n",
        "    idx = row.name\n",
        "    return [tf for tf in tf_mat_unigram[idx] if tf != 0.0]\n",
        "\n",
        "clean_data[\"TF_UNIGRAM\"] = clean_data.apply(get_TF_unigram, axis=1)\n",
        "\n",
        "def get_IDF_unigram(row):\n",
        "    idx = row.name\n",
        "    return [item[1] for item in zip(tf_mat_unigram[idx], idf_mat_unigram) if item[0] != 0.0]\n",
        "\n",
        "clean_data[\"IDF_UNIGRAM\"] = clean_data.apply(get_IDF_unigram, axis=1)\n",
        "\n",
        "def get_TFIDF_unigram(row):\n",
        "    idx = row.name\n",
        "    return [tfidf for tfidf in tfidf_mat_unigram[idx] if tfidf != 0.0]\n",
        "\n",
        "clean_data[\"TFIDF_UNIGRAM\"] = clean_data.apply(get_TFIDF_unigram, axis=1)\n",
        "\n",
        "clean_data[[\"unigram\", \"TF_UNIGRAM\", \"IDF_UNIGRAM\", \"TFIDF_UNIGRAM\"]].head()"
      ],
      "metadata": {
        "colab": {
          "base_uri": "https://localhost:8080/",
          "height": 354
        },
        "id": "dpsdS4IcEbvd",
        "outputId": "bf29dd62-2f05-4ae3-ba67-c7a3c9466850"
      },
      "execution_count": null,
      "outputs": [
        {
          "output_type": "execute_result",
          "data": {
            "text/html": [
              "\n",
              "  <div id=\"df-0c067319-3bd8-4790-aecb-0c5f7c1de2b5\">\n",
              "    <div class=\"colab-df-container\">\n",
              "      <div>\n",
              "<style scoped>\n",
              "    .dataframe tbody tr th:only-of-type {\n",
              "        vertical-align: middle;\n",
              "    }\n",
              "\n",
              "    .dataframe tbody tr th {\n",
              "        vertical-align: top;\n",
              "    }\n",
              "\n",
              "    .dataframe thead th {\n",
              "        text-align: right;\n",
              "    }\n",
              "</style>\n",
              "<table border=\"1\" class=\"dataframe\">\n",
              "  <thead>\n",
              "    <tr style=\"text-align: right;\">\n",
              "      <th></th>\n",
              "      <th>unigram</th>\n",
              "      <th>TF_UNIGRAM</th>\n",
              "      <th>IDF_UNIGRAM</th>\n",
              "      <th>TFIDF_UNIGRAM</th>\n",
              "    </tr>\n",
              "  </thead>\n",
              "  <tbody>\n",
              "    <tr>\n",
              "      <th>0</th>\n",
              "      <td>['one', 'reviewer', 'mention', 'watch', 'oz', ...</td>\n",
              "      <td>[0.004016064257028112, 0.004016064257028112, 0...</td>\n",
              "      <td>[1.879235823923144, 2.4818365678403786, 1.6580...</td>\n",
              "      <td>[0.007547131822984513, 0.00996721513188907, 0....</td>\n",
              "    </tr>\n",
              "    <tr>\n",
              "      <th>1</th>\n",
              "      <td>['wonderful', 'little', 'production', 'filming...</td>\n",
              "      <td>[0.007518796992481203, 0.007518796992481203, 0...</td>\n",
              "      <td>[1.879235823923144, 2.9297809271254422, 1.6580...</td>\n",
              "      <td>[0.01412959266107627, 0.022028428023499566, 0....</td>\n",
              "    </tr>\n",
              "    <tr>\n",
              "      <th>2</th>\n",
              "      <td>['think', 'wonderful', 'way', 'spend', 'time',...</td>\n",
              "      <td>[0.0070921985815602835, 0.0070921985815602835,...</td>\n",
              "      <td>[4.792463770370507, 5.898199864766467, 1.03461...</td>\n",
              "      <td>[0.033989104754400756, 0.0418312047146558, 0.0...</td>\n",
              "    </tr>\n",
              "    <tr>\n",
              "      <th>3</th>\n",
              "      <td>['basically', 'family', 'little', 'boy', 'jake...</td>\n",
              "      <td>[0.02912621359223301, 0.038834951456310676, 0....</td>\n",
              "      <td>[1.6580117237916907, 1.0346121489176958, 1.593...</td>\n",
              "      <td>[0.048291603605583225, 0.04017911257932799, 0....</td>\n",
              "    </tr>\n",
              "    <tr>\n",
              "      <th>4</th>\n",
              "      <td>['petter', 'mattei', 'love', 'time', 'money', ...</td>\n",
              "      <td>[0.010810810810810811, 0.005405405405405406, 0...</td>\n",
              "      <td>[1.879235823923144, 2.5425272071514735, 3.4041...</td>\n",
              "      <td>[0.020316062961331288, 0.013743390308926885, 0...</td>\n",
              "    </tr>\n",
              "  </tbody>\n",
              "</table>\n",
              "</div>\n",
              "      <button class=\"colab-df-convert\" onclick=\"convertToInteractive('df-0c067319-3bd8-4790-aecb-0c5f7c1de2b5')\"\n",
              "              title=\"Convert this dataframe to an interactive table.\"\n",
              "              style=\"display:none;\">\n",
              "        \n",
              "  <svg xmlns=\"http://www.w3.org/2000/svg\" height=\"24px\"viewBox=\"0 0 24 24\"\n",
              "       width=\"24px\">\n",
              "    <path d=\"M0 0h24v24H0V0z\" fill=\"none\"/>\n",
              "    <path d=\"M18.56 5.44l.94 2.06.94-2.06 2.06-.94-2.06-.94-.94-2.06-.94 2.06-2.06.94zm-11 1L8.5 8.5l.94-2.06 2.06-.94-2.06-.94L8.5 2.5l-.94 2.06-2.06.94zm10 10l.94 2.06.94-2.06 2.06-.94-2.06-.94-.94-2.06-.94 2.06-2.06.94z\"/><path d=\"M17.41 7.96l-1.37-1.37c-.4-.4-.92-.59-1.43-.59-.52 0-1.04.2-1.43.59L10.3 9.45l-7.72 7.72c-.78.78-.78 2.05 0 2.83L4 21.41c.39.39.9.59 1.41.59.51 0 1.02-.2 1.41-.59l7.78-7.78 2.81-2.81c.8-.78.8-2.07 0-2.86zM5.41 20L4 18.59l7.72-7.72 1.47 1.35L5.41 20z\"/>\n",
              "  </svg>\n",
              "      </button>\n",
              "      \n",
              "  <style>\n",
              "    .colab-df-container {\n",
              "      display:flex;\n",
              "      flex-wrap:wrap;\n",
              "      gap: 12px;\n",
              "    }\n",
              "\n",
              "    .colab-df-convert {\n",
              "      background-color: #E8F0FE;\n",
              "      border: none;\n",
              "      border-radius: 50%;\n",
              "      cursor: pointer;\n",
              "      display: none;\n",
              "      fill: #1967D2;\n",
              "      height: 32px;\n",
              "      padding: 0 0 0 0;\n",
              "      width: 32px;\n",
              "    }\n",
              "\n",
              "    .colab-df-convert:hover {\n",
              "      background-color: #E2EBFA;\n",
              "      box-shadow: 0px 1px 2px rgba(60, 64, 67, 0.3), 0px 1px 3px 1px rgba(60, 64, 67, 0.15);\n",
              "      fill: #174EA6;\n",
              "    }\n",
              "\n",
              "    [theme=dark] .colab-df-convert {\n",
              "      background-color: #3B4455;\n",
              "      fill: #D2E3FC;\n",
              "    }\n",
              "\n",
              "    [theme=dark] .colab-df-convert:hover {\n",
              "      background-color: #434B5C;\n",
              "      box-shadow: 0px 1px 3px 1px rgba(0, 0, 0, 0.15);\n",
              "      filter: drop-shadow(0px 1px 2px rgba(0, 0, 0, 0.3));\n",
              "      fill: #FFFFFF;\n",
              "    }\n",
              "  </style>\n",
              "\n",
              "      <script>\n",
              "        const buttonEl =\n",
              "          document.querySelector('#df-0c067319-3bd8-4790-aecb-0c5f7c1de2b5 button.colab-df-convert');\n",
              "        buttonEl.style.display =\n",
              "          google.colab.kernel.accessAllowed ? 'block' : 'none';\n",
              "\n",
              "        async function convertToInteractive(key) {\n",
              "          const element = document.querySelector('#df-0c067319-3bd8-4790-aecb-0c5f7c1de2b5');\n",
              "          const dataTable =\n",
              "            await google.colab.kernel.invokeFunction('convertToInteractive',\n",
              "                                                     [key], {});\n",
              "          if (!dataTable) return;\n",
              "\n",
              "          const docLinkHtml = 'Like what you see? Visit the ' +\n",
              "            '<a target=\"_blank\" href=https://colab.research.google.com/notebooks/data_table.ipynb>data table notebook</a>'\n",
              "            + ' to learn more about interactive tables.';\n",
              "          element.innerHTML = '';\n",
              "          dataTable['output_type'] = 'display_data';\n",
              "          await google.colab.output.renderOutput(dataTable, element);\n",
              "          const docLink = document.createElement('div');\n",
              "          docLink.innerHTML = docLinkHtml;\n",
              "          element.appendChild(docLink);\n",
              "        }\n",
              "      </script>\n",
              "    </div>\n",
              "  </div>\n",
              "  "
            ],
            "text/plain": [
              "                                             unigram  ...                                      TFIDF_UNIGRAM\n",
              "0  ['one', 'reviewer', 'mention', 'watch', 'oz', ...  ...  [0.007547131822984513, 0.00996721513188907, 0....\n",
              "1  ['wonderful', 'little', 'production', 'filming...  ...  [0.01412959266107627, 0.022028428023499566, 0....\n",
              "2  ['think', 'wonderful', 'way', 'spend', 'time',...  ...  [0.033989104754400756, 0.0418312047146558, 0.0...\n",
              "3  ['basically', 'family', 'little', 'boy', 'jake...  ...  [0.048291603605583225, 0.04017911257932799, 0....\n",
              "4  ['petter', 'mattei', 'love', 'time', 'money', ...  ...  [0.020316062961331288, 0.013743390308926885, 0...\n",
              "\n",
              "[5 rows x 4 columns]"
            ]
          },
          "metadata": {},
          "execution_count": 9
        }
      ]
    },
    {
      "cell_type": "code",
      "source": [
        "def get_TF_bigram(row):\n",
        "    idx = row.name\n",
        "    return [tf for tf in tf_mat_bigram[idx] if tf != 0.0]\n",
        "\n",
        "clean_data[\"TF_BIGRAM\"] = clean_data.apply(get_TF_bigram, axis=1)\n",
        "\n",
        "def get_IDF_bigram(row):\n",
        "    idx = row.name\n",
        "    return [item[1] for item in zip(tf_mat_bigram[idx], idf_mat_bigram) if item[0] != 0.0]\n",
        "\n",
        "clean_data[\"IDF_BIGRAM\"] = clean_data.apply(get_IDF_bigram, axis=1)\n",
        "\n",
        "def get_TFIDF_bigram(row):\n",
        "    idx = row.name\n",
        "    return [tfidf for tfidf in tfidf_mat_bigram[idx] if tfidf != 0.0]\n",
        "\n",
        "clean_data[\"TFIDF_BIGRAM\"] = clean_data.apply(get_TFIDF_bigram, axis=1)\n",
        "\n",
        "def get_Term_bigram(row):\n",
        "    idx = row.name\n",
        "    return [item[1] for item in zip(tf_mat_bigram[idx], terms_bigram) if item[0] != 0.0]\n",
        "\n",
        "clean_data[\"bigram\"] = clean_data.apply(get_Term_bigram, axis=1)\n",
        "\n",
        "clean_data[[\"bigram\", \"TF_BIGRAM\", \"IDF_BIGRAM\", \"TFIDF_BIGRAM\"]].head()"
      ],
      "metadata": {
        "colab": {
          "base_uri": "https://localhost:8080/",
          "height": 337
        },
        "id": "RP27wlnkEj6L",
        "outputId": "62089d0d-0db8-45cd-bcbd-3d2fd7e9364c"
      },
      "execution_count": null,
      "outputs": [
        {
          "output_type": "execute_result",
          "data": {
            "text/html": [
              "\n",
              "  <div id=\"df-3bac207b-aaf5-450e-b4e4-4d23a5c586a4\">\n",
              "    <div class=\"colab-df-container\">\n",
              "      <div>\n",
              "<style scoped>\n",
              "    .dataframe tbody tr th:only-of-type {\n",
              "        vertical-align: middle;\n",
              "    }\n",
              "\n",
              "    .dataframe tbody tr th {\n",
              "        vertical-align: top;\n",
              "    }\n",
              "\n",
              "    .dataframe thead th {\n",
              "        text-align: right;\n",
              "    }\n",
              "</style>\n",
              "<table border=\"1\" class=\"dataframe\">\n",
              "  <thead>\n",
              "    <tr style=\"text-align: right;\">\n",
              "      <th></th>\n",
              "      <th>bigram</th>\n",
              "      <th>TF_BIGRAM</th>\n",
              "      <th>IDF_BIGRAM</th>\n",
              "      <th>TFIDF_BIGRAM</th>\n",
              "    </tr>\n",
              "  </thead>\n",
              "  <tbody>\n",
              "    <tr>\n",
              "      <th>0</th>\n",
              "      <td>[after watching, all the, and get, and more, a...</td>\n",
              "      <td>[0.013157894736842105, 0.013157894736842105, 0...</td>\n",
              "      <td>[5.426187530459651, 2.8821656931040707, 5.4954...</td>\n",
              "      <td>[0.0713972043481533, 0.03792323280400093, 0.07...</td>\n",
              "    </tr>\n",
              "    <tr>\n",
              "      <th>1</th>\n",
              "      <td>[actors are, all the, and his, and sometimes, ...</td>\n",
              "      <td>[0.023809523809523808, 0.047619047619047616, 0...</td>\n",
              "      <td>[5.318488613869894, 2.8821656931040707, 3.6238...</td>\n",
              "      <td>[0.1266306812826165, 0.13724598538590813, 0.08...</td>\n",
              "    </tr>\n",
              "    <tr>\n",
              "      <th>2</th>\n",
              "      <td>[and more, and the, at one, be disappointed, b...</td>\n",
              "      <td>[0.0196078431372549, 0.0196078431372549, 0.019...</td>\n",
              "      <td>[4.7297014486341915, 1.9854800512271535, 5.345...</td>\n",
              "      <td>[0.0927392440908665, 0.03893098139661085, 0.10...</td>\n",
              "    </tr>\n",
              "    <tr>\n",
              "      <th>3</th>\n",
              "      <td>[all the, and then, as for, decides to, film y...</td>\n",
              "      <td>[0.05555555555555555, 0.027777777777777776, 0....</td>\n",
              "      <td>[2.8821656931040707, 3.779331403107174, 5.0008...</td>\n",
              "      <td>[0.16012031628355947, 0.10498142786408815, 0.1...</td>\n",
              "    </tr>\n",
              "    <tr>\n",
              "      <th>4</th>\n",
              "      <td>[about the, acting is, all these, and the, as ...</td>\n",
              "      <td>[0.014285714285714285, 0.014285714285714285, 0...</td>\n",
              "      <td>[3.2061845987077304, 4.074775480894444, 5.4990...</td>\n",
              "      <td>[0.045802637124396146, 0.05821107829849206, 0....</td>\n",
              "    </tr>\n",
              "  </tbody>\n",
              "</table>\n",
              "</div>\n",
              "      <button class=\"colab-df-convert\" onclick=\"convertToInteractive('df-3bac207b-aaf5-450e-b4e4-4d23a5c586a4')\"\n",
              "              title=\"Convert this dataframe to an interactive table.\"\n",
              "              style=\"display:none;\">\n",
              "        \n",
              "  <svg xmlns=\"http://www.w3.org/2000/svg\" height=\"24px\"viewBox=\"0 0 24 24\"\n",
              "       width=\"24px\">\n",
              "    <path d=\"M0 0h24v24H0V0z\" fill=\"none\"/>\n",
              "    <path d=\"M18.56 5.44l.94 2.06.94-2.06 2.06-.94-2.06-.94-.94-2.06-.94 2.06-2.06.94zm-11 1L8.5 8.5l.94-2.06 2.06-.94-2.06-.94L8.5 2.5l-.94 2.06-2.06.94zm10 10l.94 2.06.94-2.06 2.06-.94-2.06-.94-.94-2.06-.94 2.06-2.06.94z\"/><path d=\"M17.41 7.96l-1.37-1.37c-.4-.4-.92-.59-1.43-.59-.52 0-1.04.2-1.43.59L10.3 9.45l-7.72 7.72c-.78.78-.78 2.05 0 2.83L4 21.41c.39.39.9.59 1.41.59.51 0 1.02-.2 1.41-.59l7.78-7.78 2.81-2.81c.8-.78.8-2.07 0-2.86zM5.41 20L4 18.59l7.72-7.72 1.47 1.35L5.41 20z\"/>\n",
              "  </svg>\n",
              "      </button>\n",
              "      \n",
              "  <style>\n",
              "    .colab-df-container {\n",
              "      display:flex;\n",
              "      flex-wrap:wrap;\n",
              "      gap: 12px;\n",
              "    }\n",
              "\n",
              "    .colab-df-convert {\n",
              "      background-color: #E8F0FE;\n",
              "      border: none;\n",
              "      border-radius: 50%;\n",
              "      cursor: pointer;\n",
              "      display: none;\n",
              "      fill: #1967D2;\n",
              "      height: 32px;\n",
              "      padding: 0 0 0 0;\n",
              "      width: 32px;\n",
              "    }\n",
              "\n",
              "    .colab-df-convert:hover {\n",
              "      background-color: #E2EBFA;\n",
              "      box-shadow: 0px 1px 2px rgba(60, 64, 67, 0.3), 0px 1px 3px 1px rgba(60, 64, 67, 0.15);\n",
              "      fill: #174EA6;\n",
              "    }\n",
              "\n",
              "    [theme=dark] .colab-df-convert {\n",
              "      background-color: #3B4455;\n",
              "      fill: #D2E3FC;\n",
              "    }\n",
              "\n",
              "    [theme=dark] .colab-df-convert:hover {\n",
              "      background-color: #434B5C;\n",
              "      box-shadow: 0px 1px 3px 1px rgba(0, 0, 0, 0.15);\n",
              "      filter: drop-shadow(0px 1px 2px rgba(0, 0, 0, 0.3));\n",
              "      fill: #FFFFFF;\n",
              "    }\n",
              "  </style>\n",
              "\n",
              "      <script>\n",
              "        const buttonEl =\n",
              "          document.querySelector('#df-3bac207b-aaf5-450e-b4e4-4d23a5c586a4 button.colab-df-convert');\n",
              "        buttonEl.style.display =\n",
              "          google.colab.kernel.accessAllowed ? 'block' : 'none';\n",
              "\n",
              "        async function convertToInteractive(key) {\n",
              "          const element = document.querySelector('#df-3bac207b-aaf5-450e-b4e4-4d23a5c586a4');\n",
              "          const dataTable =\n",
              "            await google.colab.kernel.invokeFunction('convertToInteractive',\n",
              "                                                     [key], {});\n",
              "          if (!dataTable) return;\n",
              "\n",
              "          const docLinkHtml = 'Like what you see? Visit the ' +\n",
              "            '<a target=\"_blank\" href=https://colab.research.google.com/notebooks/data_table.ipynb>data table notebook</a>'\n",
              "            + ' to learn more about interactive tables.';\n",
              "          element.innerHTML = '';\n",
              "          dataTable['output_type'] = 'display_data';\n",
              "          await google.colab.output.renderOutput(dataTable, element);\n",
              "          const docLink = document.createElement('div');\n",
              "          docLink.innerHTML = docLinkHtml;\n",
              "          element.appendChild(docLink);\n",
              "        }\n",
              "      </script>\n",
              "    </div>\n",
              "  </div>\n",
              "  "
            ],
            "text/plain": [
              "                                              bigram  ...                                       TFIDF_BIGRAM\n",
              "0  [after watching, all the, and get, and more, a...  ...  [0.0713972043481533, 0.03792323280400093, 0.07...\n",
              "1  [actors are, all the, and his, and sometimes, ...  ...  [0.1266306812826165, 0.13724598538590813, 0.08...\n",
              "2  [and more, and the, at one, be disappointed, b...  ...  [0.0927392440908665, 0.03893098139661085, 0.10...\n",
              "3  [all the, and then, as for, decides to, film y...  ...  [0.16012031628355947, 0.10498142786408815, 0.1...\n",
              "4  [about the, acting is, all these, and the, as ...  ...  [0.045802637124396146, 0.05821107829849206, 0....\n",
              "\n",
              "[5 rows x 4 columns]"
            ]
          },
          "metadata": {},
          "execution_count": 10
        }
      ]
    },
    {
      "cell_type": "code",
      "source": [
        "clean_data[[\"unigram\", \"TF_UNIGRAM\", \"IDF_UNIGRAM\", \"TFIDF_UNIGRAM\"]].to_excel(\"TFIDF_Unigram.xlsx\")\n",
        "clean_data[[\"bigram\", \"TF_BIGRAM\", \"IDF_BIGRAM\", \"TFIDF_BIGRAM\"]].to_excel(\"TFIDF_Bigram.xlsx\")"
      ],
      "metadata": {
        "id": "l-mmOh1_EmxT"
      },
      "execution_count": null,
      "outputs": []
    },
    {
      "cell_type": "code",
      "source": [
        "files.download('TFIDF_Unigram.xlsx')\n",
        "files.download('TFIDF_Bigram.xlsx')"
      ],
      "metadata": {
        "colab": {
          "base_uri": "https://localhost:8080/",
          "height": 52
        },
        "id": "29WxEkOmGk8g",
        "outputId": "8f4c3364-5d5f-487a-f3e0-5720d53eaaff"
      },
      "execution_count": null,
      "outputs": [
        {
          "output_type": "display_data",
          "data": {
            "application/javascript": [
              "\n",
              "    async function download(id, filename, size) {\n",
              "      if (!google.colab.kernel.accessAllowed) {\n",
              "        return;\n",
              "      }\n",
              "      const div = document.createElement('div');\n",
              "      const label = document.createElement('label');\n",
              "      label.textContent = `Downloading \"${filename}\": `;\n",
              "      div.appendChild(label);\n",
              "      const progress = document.createElement('progress');\n",
              "      progress.max = size;\n",
              "      div.appendChild(progress);\n",
              "      document.body.appendChild(div);\n",
              "\n",
              "      const buffers = [];\n",
              "      let downloaded = 0;\n",
              "\n",
              "      const channel = await google.colab.kernel.comms.open(id);\n",
              "      // Send a message to notify the kernel that we're ready.\n",
              "      channel.send({})\n",
              "\n",
              "      for await (const message of channel.messages) {\n",
              "        // Send a message to notify the kernel that we're ready.\n",
              "        channel.send({})\n",
              "        if (message.buffers) {\n",
              "          for (const buffer of message.buffers) {\n",
              "            buffers.push(buffer);\n",
              "            downloaded += buffer.byteLength;\n",
              "            progress.value = downloaded;\n",
              "          }\n",
              "        }\n",
              "      }\n",
              "      const blob = new Blob(buffers, {type: 'application/binary'});\n",
              "      const a = document.createElement('a');\n",
              "      a.href = window.URL.createObjectURL(blob);\n",
              "      a.download = filename;\n",
              "      div.appendChild(a);\n",
              "      a.click();\n",
              "      div.remove();\n",
              "    }\n",
              "  "
            ],
            "text/plain": [
              "<IPython.core.display.Javascript object>"
            ]
          },
          "metadata": {}
        },
        {
          "output_type": "display_data",
          "data": {
            "application/javascript": [
              "download(\"download_f42f0511-1d23-496e-8422-7a0c7f062d2e\", \"TFIDF_Unigram.xlsx\", 119093399)"
            ],
            "text/plain": [
              "<IPython.core.display.Javascript object>"
            ]
          },
          "metadata": {}
        },
        {
          "output_type": "display_data",
          "data": {
            "application/javascript": [
              "\n",
              "    async function download(id, filename, size) {\n",
              "      if (!google.colab.kernel.accessAllowed) {\n",
              "        return;\n",
              "      }\n",
              "      const div = document.createElement('div');\n",
              "      const label = document.createElement('label');\n",
              "      label.textContent = `Downloading \"${filename}\": `;\n",
              "      div.appendChild(label);\n",
              "      const progress = document.createElement('progress');\n",
              "      progress.max = size;\n",
              "      div.appendChild(progress);\n",
              "      document.body.appendChild(div);\n",
              "\n",
              "      const buffers = [];\n",
              "      let downloaded = 0;\n",
              "\n",
              "      const channel = await google.colab.kernel.comms.open(id);\n",
              "      // Send a message to notify the kernel that we're ready.\n",
              "      channel.send({})\n",
              "\n",
              "      for await (const message of channel.messages) {\n",
              "        // Send a message to notify the kernel that we're ready.\n",
              "        channel.send({})\n",
              "        if (message.buffers) {\n",
              "          for (const buffer of message.buffers) {\n",
              "            buffers.push(buffer);\n",
              "            downloaded += buffer.byteLength;\n",
              "            progress.value = downloaded;\n",
              "          }\n",
              "        }\n",
              "      }\n",
              "      const blob = new Blob(buffers, {type: 'application/binary'});\n",
              "      const a = document.createElement('a');\n",
              "      a.href = window.URL.createObjectURL(blob);\n",
              "      a.download = filename;\n",
              "      div.appendChild(a);\n",
              "      a.click();\n",
              "      div.remove();\n",
              "    }\n",
              "  "
            ],
            "text/plain": [
              "<IPython.core.display.Javascript object>"
            ]
          },
          "metadata": {}
        },
        {
          "output_type": "display_data",
          "data": {
            "application/javascript": [
              "download(\"download_da02d7d7-98b3-4b2e-9aa6-0838450b6e0b\", \"TFIDF_Bigram.xlsx\", 63469194)"
            ],
            "text/plain": [
              "<IPython.core.display.Javascript object>"
            ]
          },
          "metadata": {}
        }
      ]
    },
    {
      "cell_type": "markdown",
      "source": [
        " menyimpan sparse matrix unigram, bigram and trigram ke .npz file"
      ],
      "metadata": {
        "id": "SulqYSwRwcpj"
      }
    },
    {
      "cell_type": "code",
      "execution_count": null,
      "metadata": {
        "id": "CKMQst38kPKj"
      },
      "outputs": [],
      "source": [
        "\n",
        "sparse.save_npz(\"tfidf_mat_unigram.npz\", sparse.csr_matrix(tfidf_mat_unigram))\n",
        "sparse.save_npz(\"tfidf_mat_bigram.npz\", sparse.csr_matrix(tfidf_mat_bigram))\n",
        "#sparse.save_npz(\"tfidf_mat_trigram.npz\", sparse.csr_matrix(tfidf_mat_trigram))\n",
        "\n"
      ]
    },
    {
      "cell_type": "code",
      "execution_count": null,
      "metadata": {
        "colab": {
          "base_uri": "https://localhost:8080/",
          "height": 34
        },
        "id": "oyjkoaYUX_0M",
        "outputId": "68922f70-c7ff-4fbf-cf56-fcb8f1c8c94c"
      },
      "outputs": [
        {
          "output_type": "display_data",
          "data": {
            "application/javascript": [
              "\n",
              "    async function download(id, filename, size) {\n",
              "      if (!google.colab.kernel.accessAllowed) {\n",
              "        return;\n",
              "      }\n",
              "      const div = document.createElement('div');\n",
              "      const label = document.createElement('label');\n",
              "      label.textContent = `Downloading \"${filename}\": `;\n",
              "      div.appendChild(label);\n",
              "      const progress = document.createElement('progress');\n",
              "      progress.max = size;\n",
              "      div.appendChild(progress);\n",
              "      document.body.appendChild(div);\n",
              "\n",
              "      const buffers = [];\n",
              "      let downloaded = 0;\n",
              "\n",
              "      const channel = await google.colab.kernel.comms.open(id);\n",
              "      // Send a message to notify the kernel that we're ready.\n",
              "      channel.send({})\n",
              "\n",
              "      for await (const message of channel.messages) {\n",
              "        // Send a message to notify the kernel that we're ready.\n",
              "        channel.send({})\n",
              "        if (message.buffers) {\n",
              "          for (const buffer of message.buffers) {\n",
              "            buffers.push(buffer);\n",
              "            downloaded += buffer.byteLength;\n",
              "            progress.value = downloaded;\n",
              "          }\n",
              "        }\n",
              "      }\n",
              "      const blob = new Blob(buffers, {type: 'application/binary'});\n",
              "      const a = document.createElement('a');\n",
              "      a.href = window.URL.createObjectURL(blob);\n",
              "      a.download = filename;\n",
              "      div.appendChild(a);\n",
              "      a.click();\n",
              "      div.remove();\n",
              "    }\n",
              "  "
            ],
            "text/plain": [
              "<IPython.core.display.Javascript object>"
            ]
          },
          "metadata": {}
        },
        {
          "output_type": "display_data",
          "data": {
            "application/javascript": [
              "download(\"download_b61f73ce-f747-42c8-879e-06aa7bfc8b49\", \"tfidf_mat_unigram.npz\", 47806792)"
            ],
            "text/plain": [
              "<IPython.core.display.Javascript object>"
            ]
          },
          "metadata": {}
        },
        {
          "output_type": "display_data",
          "data": {
            "application/javascript": [
              "\n",
              "    async function download(id, filename, size) {\n",
              "      if (!google.colab.kernel.accessAllowed) {\n",
              "        return;\n",
              "      }\n",
              "      const div = document.createElement('div');\n",
              "      const label = document.createElement('label');\n",
              "      label.textContent = `Downloading \"${filename}\": `;\n",
              "      div.appendChild(label);\n",
              "      const progress = document.createElement('progress');\n",
              "      progress.max = size;\n",
              "      div.appendChild(progress);\n",
              "      document.body.appendChild(div);\n",
              "\n",
              "      const buffers = [];\n",
              "      let downloaded = 0;\n",
              "\n",
              "      const channel = await google.colab.kernel.comms.open(id);\n",
              "      // Send a message to notify the kernel that we're ready.\n",
              "      channel.send({})\n",
              "\n",
              "      for await (const message of channel.messages) {\n",
              "        // Send a message to notify the kernel that we're ready.\n",
              "        channel.send({})\n",
              "        if (message.buffers) {\n",
              "          for (const buffer of message.buffers) {\n",
              "            buffers.push(buffer);\n",
              "            downloaded += buffer.byteLength;\n",
              "            progress.value = downloaded;\n",
              "          }\n",
              "        }\n",
              "      }\n",
              "      const blob = new Blob(buffers, {type: 'application/binary'});\n",
              "      const a = document.createElement('a');\n",
              "      a.href = window.URL.createObjectURL(blob);\n",
              "      a.download = filename;\n",
              "      div.appendChild(a);\n",
              "      a.click();\n",
              "      div.remove();\n",
              "    }\n",
              "  "
            ],
            "text/plain": [
              "<IPython.core.display.Javascript object>"
            ]
          },
          "metadata": {}
        },
        {
          "output_type": "display_data",
          "data": {
            "application/javascript": [
              "download(\"download_1cb4b8db-d204-4649-a087-c55c9acfe980\", \"tfidf_mat_bigram.npz\", 25487636)"
            ],
            "text/plain": [
              "<IPython.core.display.Javascript object>"
            ]
          },
          "metadata": {}
        }
      ],
      "source": [
        "files.download('tfidf_mat_unigram.npz')\n",
        "files.download('tfidf_mat_bigram.npz')\n",
        "#files.download('tfidf_mat_trigram.npz')"
      ]
    },
    {
      "cell_type": "markdown",
      "source": [
        "membaca kembali sparse matrix yang sebelumnya disimpan pada file .npz"
      ],
      "metadata": {
        "id": "ZsqVRZiewnAL"
      }
    },
    {
      "cell_type": "code",
      "execution_count": 6,
      "metadata": {
        "id": "zLsK7Rw4kqO6"
      },
      "outputs": [],
      "source": [
        "tfidf_mat_unigram = scipy.sparse.load_npz('tfidf_mat_unigram.npz').toarray()\n",
        "tfidf_mat_bigram = scipy.sparse.load_npz('tfidf_mat_bigram.npz').toarray()\n",
        "#tfidf_mat_trigram = sparse.load_npz('tfidf_mat_trigram.npz').toarray()"
      ]
    },
    {
      "cell_type": "markdown",
      "source": [
        "Menyimpan nama fitur dalam bentuk .json"
      ],
      "metadata": {
        "id": "VvJG8U_JwsZm"
      }
    },
    {
      "cell_type": "code",
      "execution_count": null,
      "metadata": {
        "id": "uvBdVnrnBz4m"
      },
      "outputs": [],
      "source": [
        "import json\n",
        "\n",
        "def get_dict_feature_name(terms):\n",
        "    feature_name = {}\n",
        "    feature_name['feature'] = terms\n",
        "    return feature_name\n",
        "\n",
        "\n",
        "def save_to_json(Data, json_filename):\n",
        "    with open(json_filename, mode='w') as json_config:\n",
        "        json.dump(Data, json_config)\n",
        "        \n",
        "# save feature name unigram, bigram and trigram as json file\n",
        "save_to_json( get_dict_feature_name(terms_unigram),\"tfidf_feature_name_unigram.json\")\n",
        "save_to_json( get_dict_feature_name(terms_bigram),\"tfidf_feature_name_bigram.json\")\n",
        "#save_to_json( get_dict_feature_name(terms_trigram),\"tfidf_feature_name_trigram.json\")"
      ]
    },
    {
      "cell_type": "code",
      "execution_count": null,
      "metadata": {
        "colab": {
          "base_uri": "https://localhost:8080/",
          "height": 17
        },
        "id": "bVS68XWnZALl",
        "outputId": "e77ee4d4-584d-47f1-f423-8d2fe5b2a059"
      },
      "outputs": [
        {
          "output_type": "display_data",
          "data": {
            "application/javascript": [
              "\n",
              "    async function download(id, filename, size) {\n",
              "      if (!google.colab.kernel.accessAllowed) {\n",
              "        return;\n",
              "      }\n",
              "      const div = document.createElement('div');\n",
              "      const label = document.createElement('label');\n",
              "      label.textContent = `Downloading \"${filename}\": `;\n",
              "      div.appendChild(label);\n",
              "      const progress = document.createElement('progress');\n",
              "      progress.max = size;\n",
              "      div.appendChild(progress);\n",
              "      document.body.appendChild(div);\n",
              "\n",
              "      const buffers = [];\n",
              "      let downloaded = 0;\n",
              "\n",
              "      const channel = await google.colab.kernel.comms.open(id);\n",
              "      // Send a message to notify the kernel that we're ready.\n",
              "      channel.send({})\n",
              "\n",
              "      for await (const message of channel.messages) {\n",
              "        // Send a message to notify the kernel that we're ready.\n",
              "        channel.send({})\n",
              "        if (message.buffers) {\n",
              "          for (const buffer of message.buffers) {\n",
              "            buffers.push(buffer);\n",
              "            downloaded += buffer.byteLength;\n",
              "            progress.value = downloaded;\n",
              "          }\n",
              "        }\n",
              "      }\n",
              "      const blob = new Blob(buffers, {type: 'application/binary'});\n",
              "      const a = document.createElement('a');\n",
              "      a.href = window.URL.createObjectURL(blob);\n",
              "      a.download = filename;\n",
              "      div.appendChild(a);\n",
              "      a.click();\n",
              "      div.remove();\n",
              "    }\n",
              "  "
            ],
            "text/plain": [
              "<IPython.core.display.Javascript object>"
            ]
          },
          "metadata": {}
        },
        {
          "output_type": "display_data",
          "data": {
            "application/javascript": [
              "download(\"download_eca9950c-2112-4881-b561-194088aa510b\", \"tfidf_feature_name_unigram.json\", 30288)"
            ],
            "text/plain": [
              "<IPython.core.display.Javascript object>"
            ]
          },
          "metadata": {}
        },
        {
          "output_type": "display_data",
          "data": {
            "application/javascript": [
              "\n",
              "    async function download(id, filename, size) {\n",
              "      if (!google.colab.kernel.accessAllowed) {\n",
              "        return;\n",
              "      }\n",
              "      const div = document.createElement('div');\n",
              "      const label = document.createElement('label');\n",
              "      label.textContent = `Downloading \"${filename}\": `;\n",
              "      div.appendChild(label);\n",
              "      const progress = document.createElement('progress');\n",
              "      progress.max = size;\n",
              "      div.appendChild(progress);\n",
              "      document.body.appendChild(div);\n",
              "\n",
              "      const buffers = [];\n",
              "      let downloaded = 0;\n",
              "\n",
              "      const channel = await google.colab.kernel.comms.open(id);\n",
              "      // Send a message to notify the kernel that we're ready.\n",
              "      channel.send({})\n",
              "\n",
              "      for await (const message of channel.messages) {\n",
              "        // Send a message to notify the kernel that we're ready.\n",
              "        channel.send({})\n",
              "        if (message.buffers) {\n",
              "          for (const buffer of message.buffers) {\n",
              "            buffers.push(buffer);\n",
              "            downloaded += buffer.byteLength;\n",
              "            progress.value = downloaded;\n",
              "          }\n",
              "        }\n",
              "      }\n",
              "      const blob = new Blob(buffers, {type: 'application/binary'});\n",
              "      const a = document.createElement('a');\n",
              "      a.href = window.URL.createObjectURL(blob);\n",
              "      a.download = filename;\n",
              "      div.appendChild(a);\n",
              "      a.click();\n",
              "      div.remove();\n",
              "    }\n",
              "  "
            ],
            "text/plain": [
              "<IPython.core.display.Javascript object>"
            ]
          },
          "metadata": {}
        },
        {
          "output_type": "display_data",
          "data": {
            "application/javascript": [
              "download(\"download_3c84091b-0a38-4f3f-813d-75852480e5ea\", \"tfidf_feature_name_bigram.json\", 37453)"
            ],
            "text/plain": [
              "<IPython.core.display.Javascript object>"
            ]
          },
          "metadata": {}
        }
      ],
      "source": [
        "files.download('tfidf_feature_name_unigram.json')\n",
        "files.download('tfidf_feature_name_bigram.json')\n",
        "#files.download('tfidf_feature_name_trigram.json')"
      ]
    },
    {
      "cell_type": "markdown",
      "source": [
        "Mengkalkulasikan Information Gain untuk setiap fitur"
      ],
      "metadata": {
        "id": "hcSQJo1kxLxk"
      }
    },
    {
      "cell_type": "code",
      "execution_count": 8,
      "metadata": {
        "id": "KBB04aK22fX4"
      },
      "outputs": [],
      "source": [
        "# calculate mutual info (MI) / information gain (GI) untuk tiap feature\n",
        "mi_unigram = mutual_info_classif(tfidf_mat_unigram, y)\n",
        "mi_bigram = mutual_info_classif(tfidf_mat_bigram, y)\n",
        "#mi_trigram = mutual_info_classif(tfidf_mat_trigram, y)\n",
        "\n",
        "# normalisasi (L1) untuk semua hasil perhitungan MI/GI\n",
        "norm_mi_unigram = mi_unigram/np.max(mi_unigram)\n",
        "norm_mi_bigram = mi_bigram/np.max(mi_bigram)\n",
        "#norm_mi_trigram = mi_trigram/np.max(mi_trigram)\n"
      ]
    },
    {
      "cell_type": "markdown",
      "source": [
        "Membaca nama fitur yang disimpan sebelumnya pada tahap tfidf"
      ],
      "metadata": {
        "id": "swL0gRJJxXQ5"
      }
    },
    {
      "cell_type": "code",
      "execution_count": 7,
      "metadata": {
        "id": "8pdoNquEB8AT"
      },
      "outputs": [],
      "source": [
        "import json\n",
        "\n",
        "def read_json_feature_name(file_name, Keys):\n",
        "    with open(file_name) as json_config:\n",
        "        json_object = json.load(json_config)\n",
        "\n",
        "    param = []\n",
        "    for item in json_object:\n",
        "        if item in Keys:\n",
        "            param.append(json_object[item])\n",
        "\n",
        "    return param\n",
        "\n",
        "terms_unigram = read_json_feature_name(\"tfidf_feature_name_unigram.json\", \"feature\")\n",
        "terms_bigram = read_json_feature_name(\"tfidf_feature_name_bigram.json\", \"feature\")\n",
        "#terms_trigram = read_json_feature_name(\"tfidf_feature_name_trigram.json\", \"feature\")"
      ]
    },
    {
      "cell_type": "markdown",
      "source": [
        "Menampilkan top 10 fitur tf-idf dengan nilai IG nya"
      ],
      "metadata": {
        "id": "tC8nb78cxjRs"
      }
    },
    {
      "cell_type": "code",
      "execution_count": 9,
      "metadata": {
        "id": "A0eroRpCqAIW"
      },
      "outputs": [],
      "source": [
        "# sum tfidf frequency of each term through documents\n",
        "sums_unigram = tfidf_mat_unigram.sum(axis=0)\n",
        "sums_bigram = tfidf_mat_bigram.sum(axis=0)\n",
        "#sums_trigram = tfidf_mat_trigram.sum(axis=0)\n",
        "\n",
        "def generate_ranking(terms, sums):\n",
        "    # connecting term to its sums frequency\n",
        "    data = []\n",
        "    for col, term in enumerate(terms):\n",
        "        data.append((term, sums[col] ))\n",
        "    ranking = pd.DataFrame(data, columns=['term','rank'])\n",
        "    return ranking.sort_values('rank', ascending=False)\n",
        "\n",
        "\n",
        "ranking_unigram = generate_ranking(terms_unigram[0], sums_unigram)\n",
        "ranking_bigram = generate_ranking(terms_bigram[0], sums_bigram)\n",
        "#ranking_trigram = generate_ranking(terms_trigram[0], sums_trigram)"
      ]
    },
    {
      "cell_type": "code",
      "execution_count": 10,
      "metadata": {
        "id": "DMTi4UA_qhYD"
      },
      "outputs": [],
      "source": [
        "# apply norm_mi to Dataframe rangking\n",
        "ranking_unigram[\"MI_unigram\"] = ranking_unigram.apply(lambda x: norm_mi_unigram[x.name], axis=1)\n",
        "ranking_bigram[\"MI_bigram\"] = ranking_bigram.apply(lambda x: norm_mi_bigram[x.name], axis=1)\n",
        "#ranking_trigram[\"MI_trigram\"] = ranking_trigram.apply(lambda x: norm_mi_trigram[x.name], axis=1)"
      ]
    },
    {
      "cell_type": "code",
      "execution_count": 11,
      "metadata": {
        "colab": {
          "base_uri": "https://localhost:8080/",
          "height": 363
        },
        "id": "zL03kcWGqjL9",
        "outputId": "5d154472-79d3-4520-ecee-31dc44bc925c"
      },
      "outputs": [
        {
          "output_type": "execute_result",
          "data": {
            "text/html": [
              "\n",
              "  <div id=\"df-bd5479ab-fe9b-4b5f-abe5-02180d84f3af\">\n",
              "    <div class=\"colab-df-container\">\n",
              "      <div>\n",
              "<style scoped>\n",
              "    .dataframe tbody tr th:only-of-type {\n",
              "        vertical-align: middle;\n",
              "    }\n",
              "\n",
              "    .dataframe tbody tr th {\n",
              "        vertical-align: top;\n",
              "    }\n",
              "\n",
              "    .dataframe thead th {\n",
              "        text-align: right;\n",
              "    }\n",
              "</style>\n",
              "<table border=\"1\" class=\"dataframe\">\n",
              "  <thead>\n",
              "    <tr style=\"text-align: right;\">\n",
              "      <th></th>\n",
              "      <th>term</th>\n",
              "      <th>rank</th>\n",
              "      <th>MI_unigram</th>\n",
              "    </tr>\n",
              "  </thead>\n",
              "  <tbody>\n",
              "    <tr>\n",
              "      <th>1739</th>\n",
              "      <td>movie</td>\n",
              "      <td>1895.999964</td>\n",
              "      <td>0.117946</td>\n",
              "    </tr>\n",
              "    <tr>\n",
              "      <th>1008</th>\n",
              "      <td>film</td>\n",
              "      <td>1566.057417</td>\n",
              "      <td>0.032158</td>\n",
              "    </tr>\n",
              "    <tr>\n",
              "      <th>1861</th>\n",
              "      <td>one</td>\n",
              "      <td>936.937617</td>\n",
              "      <td>0.000000</td>\n",
              "    </tr>\n",
              "    <tr>\n",
              "      <th>2326</th>\n",
              "      <td>see</td>\n",
              "      <td>852.483626</td>\n",
              "      <td>0.041382</td>\n",
              "    </tr>\n",
              "    <tr>\n",
              "      <th>1536</th>\n",
              "      <td>like</td>\n",
              "      <td>829.923548</td>\n",
              "      <td>0.010624</td>\n",
              "    </tr>\n",
              "    <tr>\n",
              "      <th>1605</th>\n",
              "      <td>make</td>\n",
              "      <td>819.363278</td>\n",
              "      <td>0.052454</td>\n",
              "    </tr>\n",
              "    <tr>\n",
              "      <th>1141</th>\n",
              "      <td>good</td>\n",
              "      <td>804.908416</td>\n",
              "      <td>0.063581</td>\n",
              "    </tr>\n",
              "    <tr>\n",
              "      <th>203</th>\n",
              "      <td>bad</td>\n",
              "      <td>720.242410</td>\n",
              "      <td>1.000000</td>\n",
              "    </tr>\n",
              "    <tr>\n",
              "      <th>2905</th>\n",
              "      <td>watch</td>\n",
              "      <td>707.697694</td>\n",
              "      <td>0.006161</td>\n",
              "    </tr>\n",
              "    <tr>\n",
              "      <th>1123</th>\n",
              "      <td>get</td>\n",
              "      <td>699.286832</td>\n",
              "      <td>0.028797</td>\n",
              "    </tr>\n",
              "  </tbody>\n",
              "</table>\n",
              "</div>\n",
              "      <button class=\"colab-df-convert\" onclick=\"convertToInteractive('df-bd5479ab-fe9b-4b5f-abe5-02180d84f3af')\"\n",
              "              title=\"Convert this dataframe to an interactive table.\"\n",
              "              style=\"display:none;\">\n",
              "        \n",
              "  <svg xmlns=\"http://www.w3.org/2000/svg\" height=\"24px\"viewBox=\"0 0 24 24\"\n",
              "       width=\"24px\">\n",
              "    <path d=\"M0 0h24v24H0V0z\" fill=\"none\"/>\n",
              "    <path d=\"M18.56 5.44l.94 2.06.94-2.06 2.06-.94-2.06-.94-.94-2.06-.94 2.06-2.06.94zm-11 1L8.5 8.5l.94-2.06 2.06-.94-2.06-.94L8.5 2.5l-.94 2.06-2.06.94zm10 10l.94 2.06.94-2.06 2.06-.94-2.06-.94-.94-2.06-.94 2.06-2.06.94z\"/><path d=\"M17.41 7.96l-1.37-1.37c-.4-.4-.92-.59-1.43-.59-.52 0-1.04.2-1.43.59L10.3 9.45l-7.72 7.72c-.78.78-.78 2.05 0 2.83L4 21.41c.39.39.9.59 1.41.59.51 0 1.02-.2 1.41-.59l7.78-7.78 2.81-2.81c.8-.78.8-2.07 0-2.86zM5.41 20L4 18.59l7.72-7.72 1.47 1.35L5.41 20z\"/>\n",
              "  </svg>\n",
              "      </button>\n",
              "      \n",
              "  <style>\n",
              "    .colab-df-container {\n",
              "      display:flex;\n",
              "      flex-wrap:wrap;\n",
              "      gap: 12px;\n",
              "    }\n",
              "\n",
              "    .colab-df-convert {\n",
              "      background-color: #E8F0FE;\n",
              "      border: none;\n",
              "      border-radius: 50%;\n",
              "      cursor: pointer;\n",
              "      display: none;\n",
              "      fill: #1967D2;\n",
              "      height: 32px;\n",
              "      padding: 0 0 0 0;\n",
              "      width: 32px;\n",
              "    }\n",
              "\n",
              "    .colab-df-convert:hover {\n",
              "      background-color: #E2EBFA;\n",
              "      box-shadow: 0px 1px 2px rgba(60, 64, 67, 0.3), 0px 1px 3px 1px rgba(60, 64, 67, 0.15);\n",
              "      fill: #174EA6;\n",
              "    }\n",
              "\n",
              "    [theme=dark] .colab-df-convert {\n",
              "      background-color: #3B4455;\n",
              "      fill: #D2E3FC;\n",
              "    }\n",
              "\n",
              "    [theme=dark] .colab-df-convert:hover {\n",
              "      background-color: #434B5C;\n",
              "      box-shadow: 0px 1px 3px 1px rgba(0, 0, 0, 0.15);\n",
              "      filter: drop-shadow(0px 1px 2px rgba(0, 0, 0, 0.3));\n",
              "      fill: #FFFFFF;\n",
              "    }\n",
              "  </style>\n",
              "\n",
              "      <script>\n",
              "        const buttonEl =\n",
              "          document.querySelector('#df-bd5479ab-fe9b-4b5f-abe5-02180d84f3af button.colab-df-convert');\n",
              "        buttonEl.style.display =\n",
              "          google.colab.kernel.accessAllowed ? 'block' : 'none';\n",
              "\n",
              "        async function convertToInteractive(key) {\n",
              "          const element = document.querySelector('#df-bd5479ab-fe9b-4b5f-abe5-02180d84f3af');\n",
              "          const dataTable =\n",
              "            await google.colab.kernel.invokeFunction('convertToInteractive',\n",
              "                                                     [key], {});\n",
              "          if (!dataTable) return;\n",
              "\n",
              "          const docLinkHtml = 'Like what you see? Visit the ' +\n",
              "            '<a target=\"_blank\" href=https://colab.research.google.com/notebooks/data_table.ipynb>data table notebook</a>'\n",
              "            + ' to learn more about interactive tables.';\n",
              "          element.innerHTML = '';\n",
              "          dataTable['output_type'] = 'display_data';\n",
              "          await google.colab.output.renderOutput(dataTable, element);\n",
              "          const docLink = document.createElement('div');\n",
              "          docLink.innerHTML = docLinkHtml;\n",
              "          element.appendChild(docLink);\n",
              "        }\n",
              "      </script>\n",
              "    </div>\n",
              "  </div>\n",
              "  "
            ],
            "text/plain": [
              "       term         rank  MI_unigram\n",
              "1739  movie  1895.999964    0.117946\n",
              "1008   film  1566.057417    0.032158\n",
              "1861    one   936.937617    0.000000\n",
              "2326    see   852.483626    0.041382\n",
              "1536   like   829.923548    0.010624\n",
              "1605   make   819.363278    0.052454\n",
              "1141   good   804.908416    0.063581\n",
              "203     bad   720.242410    1.000000\n",
              "2905  watch   707.697694    0.006161\n",
              "1123    get   699.286832    0.028797"
            ]
          },
          "metadata": {},
          "execution_count": 11
        }
      ],
      "source": [
        "# show top 10 rank (total tfidf) unigram\n",
        "ranking_unigram.head(10)"
      ]
    },
    {
      "cell_type": "code",
      "execution_count": 12,
      "metadata": {
        "colab": {
          "base_uri": "https://localhost:8080/",
          "height": 363
        },
        "id": "f-qgo2Ogqkvk",
        "outputId": "8309dbcf-fff9-4e64-ee4d-12cd6280f30b"
      },
      "outputs": [
        {
          "output_type": "execute_result",
          "data": {
            "text/html": [
              "\n",
              "  <div id=\"df-92f9a2f1-0a95-4131-a590-14a7ba33ae72\">\n",
              "    <div class=\"colab-df-container\">\n",
              "      <div>\n",
              "<style scoped>\n",
              "    .dataframe tbody tr th:only-of-type {\n",
              "        vertical-align: middle;\n",
              "    }\n",
              "\n",
              "    .dataframe tbody tr th {\n",
              "        vertical-align: top;\n",
              "    }\n",
              "\n",
              "    .dataframe thead th {\n",
              "        text-align: right;\n",
              "    }\n",
              "</style>\n",
              "<table border=\"1\" class=\"dataframe\">\n",
              "  <thead>\n",
              "    <tr style=\"text-align: right;\">\n",
              "      <th></th>\n",
              "      <th>term</th>\n",
              "      <th>rank</th>\n",
              "      <th>MI_bigram</th>\n",
              "    </tr>\n",
              "  </thead>\n",
              "  <tbody>\n",
              "    <tr>\n",
              "      <th>1382</th>\n",
              "      <td>look like</td>\n",
              "      <td>964.357314</td>\n",
              "      <td>0.551287</td>\n",
              "    </tr>\n",
              "    <tr>\n",
              "      <th>554</th>\n",
              "      <td>ever see</td>\n",
              "      <td>856.789223</td>\n",
              "      <td>0.239913</td>\n",
              "    </tr>\n",
              "    <tr>\n",
              "      <th>2814</th>\n",
              "      <td>watch movie</td>\n",
              "      <td>848.442271</td>\n",
              "      <td>0.130362</td>\n",
              "    </tr>\n",
              "    <tr>\n",
              "      <th>2315</th>\n",
              "      <td>see movie</td>\n",
              "      <td>794.490830</td>\n",
              "      <td>0.000000</td>\n",
              "    </tr>\n",
              "    <tr>\n",
              "      <th>2981</th>\n",
              "      <td>year old</td>\n",
              "      <td>772.115022</td>\n",
              "      <td>0.100446</td>\n",
              "    </tr>\n",
              "    <tr>\n",
              "      <th>170</th>\n",
              "      <td>bad movie</td>\n",
              "      <td>764.114383</td>\n",
              "      <td>1.000000</td>\n",
              "    </tr>\n",
              "    <tr>\n",
              "      <th>2439</th>\n",
              "      <td>special effect</td>\n",
              "      <td>720.358012</td>\n",
              "      <td>0.000000</td>\n",
              "    </tr>\n",
              "    <tr>\n",
              "      <th>1871</th>\n",
              "      <td>one best</td>\n",
              "      <td>689.782002</td>\n",
              "      <td>0.546351</td>\n",
              "    </tr>\n",
              "    <tr>\n",
              "      <th>1466</th>\n",
              "      <td>make movie</td>\n",
              "      <td>646.169744</td>\n",
              "      <td>0.054333</td>\n",
              "    </tr>\n",
              "    <tr>\n",
              "      <th>1042</th>\n",
              "      <td>good movie</td>\n",
              "      <td>616.188363</td>\n",
              "      <td>0.000000</td>\n",
              "    </tr>\n",
              "  </tbody>\n",
              "</table>\n",
              "</div>\n",
              "      <button class=\"colab-df-convert\" onclick=\"convertToInteractive('df-92f9a2f1-0a95-4131-a590-14a7ba33ae72')\"\n",
              "              title=\"Convert this dataframe to an interactive table.\"\n",
              "              style=\"display:none;\">\n",
              "        \n",
              "  <svg xmlns=\"http://www.w3.org/2000/svg\" height=\"24px\"viewBox=\"0 0 24 24\"\n",
              "       width=\"24px\">\n",
              "    <path d=\"M0 0h24v24H0V0z\" fill=\"none\"/>\n",
              "    <path d=\"M18.56 5.44l.94 2.06.94-2.06 2.06-.94-2.06-.94-.94-2.06-.94 2.06-2.06.94zm-11 1L8.5 8.5l.94-2.06 2.06-.94-2.06-.94L8.5 2.5l-.94 2.06-2.06.94zm10 10l.94 2.06.94-2.06 2.06-.94-2.06-.94-.94-2.06-.94 2.06-2.06.94z\"/><path d=\"M17.41 7.96l-1.37-1.37c-.4-.4-.92-.59-1.43-.59-.52 0-1.04.2-1.43.59L10.3 9.45l-7.72 7.72c-.78.78-.78 2.05 0 2.83L4 21.41c.39.39.9.59 1.41.59.51 0 1.02-.2 1.41-.59l7.78-7.78 2.81-2.81c.8-.78.8-2.07 0-2.86zM5.41 20L4 18.59l7.72-7.72 1.47 1.35L5.41 20z\"/>\n",
              "  </svg>\n",
              "      </button>\n",
              "      \n",
              "  <style>\n",
              "    .colab-df-container {\n",
              "      display:flex;\n",
              "      flex-wrap:wrap;\n",
              "      gap: 12px;\n",
              "    }\n",
              "\n",
              "    .colab-df-convert {\n",
              "      background-color: #E8F0FE;\n",
              "      border: none;\n",
              "      border-radius: 50%;\n",
              "      cursor: pointer;\n",
              "      display: none;\n",
              "      fill: #1967D2;\n",
              "      height: 32px;\n",
              "      padding: 0 0 0 0;\n",
              "      width: 32px;\n",
              "    }\n",
              "\n",
              "    .colab-df-convert:hover {\n",
              "      background-color: #E2EBFA;\n",
              "      box-shadow: 0px 1px 2px rgba(60, 64, 67, 0.3), 0px 1px 3px 1px rgba(60, 64, 67, 0.15);\n",
              "      fill: #174EA6;\n",
              "    }\n",
              "\n",
              "    [theme=dark] .colab-df-convert {\n",
              "      background-color: #3B4455;\n",
              "      fill: #D2E3FC;\n",
              "    }\n",
              "\n",
              "    [theme=dark] .colab-df-convert:hover {\n",
              "      background-color: #434B5C;\n",
              "      box-shadow: 0px 1px 3px 1px rgba(0, 0, 0, 0.15);\n",
              "      filter: drop-shadow(0px 1px 2px rgba(0, 0, 0, 0.3));\n",
              "      fill: #FFFFFF;\n",
              "    }\n",
              "  </style>\n",
              "\n",
              "      <script>\n",
              "        const buttonEl =\n",
              "          document.querySelector('#df-92f9a2f1-0a95-4131-a590-14a7ba33ae72 button.colab-df-convert');\n",
              "        buttonEl.style.display =\n",
              "          google.colab.kernel.accessAllowed ? 'block' : 'none';\n",
              "\n",
              "        async function convertToInteractive(key) {\n",
              "          const element = document.querySelector('#df-92f9a2f1-0a95-4131-a590-14a7ba33ae72');\n",
              "          const dataTable =\n",
              "            await google.colab.kernel.invokeFunction('convertToInteractive',\n",
              "                                                     [key], {});\n",
              "          if (!dataTable) return;\n",
              "\n",
              "          const docLinkHtml = 'Like what you see? Visit the ' +\n",
              "            '<a target=\"_blank\" href=https://colab.research.google.com/notebooks/data_table.ipynb>data table notebook</a>'\n",
              "            + ' to learn more about interactive tables.';\n",
              "          element.innerHTML = '';\n",
              "          dataTable['output_type'] = 'display_data';\n",
              "          await google.colab.output.renderOutput(dataTable, element);\n",
              "          const docLink = document.createElement('div');\n",
              "          docLink.innerHTML = docLinkHtml;\n",
              "          element.appendChild(docLink);\n",
              "        }\n",
              "      </script>\n",
              "    </div>\n",
              "  </div>\n",
              "  "
            ],
            "text/plain": [
              "                term        rank  MI_bigram\n",
              "1382       look like  964.357314   0.551287\n",
              "554         ever see  856.789223   0.239913\n",
              "2814     watch movie  848.442271   0.130362\n",
              "2315       see movie  794.490830   0.000000\n",
              "2981        year old  772.115022   0.100446\n",
              "170        bad movie  764.114383   1.000000\n",
              "2439  special effect  720.358012   0.000000\n",
              "1871        one best  689.782002   0.546351\n",
              "1466      make movie  646.169744   0.054333\n",
              "1042      good movie  616.188363   0.000000"
            ]
          },
          "metadata": {},
          "execution_count": 12
        }
      ],
      "source": [
        "# show top 10 rank (total tfidf) bigram\n",
        "ranking_bigram.head(10)"
      ]
    },
    {
      "cell_type": "markdown",
      "source": [
        "Pengaplikasian nilai threshold pada IG"
      ],
      "metadata": {
        "id": "OPszb8D6y2Ca"
      }
    },
    {
      "cell_type": "code",
      "execution_count": 13,
      "metadata": {
        "id": "HH6bWb5eqvw2"
      },
      "outputs": [],
      "source": [
        "# get all column index on norm_mi below 0.01 \n",
        "def get_column_idx(norm_mi, threshold):\n",
        "    return [i for i, mi_item in enumerate(norm_mi) if mi_item < threshold]\n",
        "\n",
        "column_idx_unigram = get_column_idx(norm_mi_unigram, 0.01)\n",
        "column_idx_bigram = get_column_idx(norm_mi_bigram, 0.01)\n",
        "#column_idx_trigram = get_column_idx(norm_mi_trigram, 0.1)\n",
        "\n",
        "\n",
        "# delete sparse matrix tfidf_mat where column=column_id, save into new array\n",
        "tfidf_mat_selection_unigram = np.delete(tfidf_mat_unigram, column_idx_unigram ,1)\n",
        "tfidf_mat_selection_bigram = np.delete(tfidf_mat_bigram, column_idx_bigram ,1)\n",
        "#tfidf_mat_selection_trigram = np.delete(tfidf_mat_trigram, column_idx_trigram ,1)\n",
        "\n",
        "# number of feature after reduction\n",
        "max_features_unigram = tfidf_mat_selection_unigram.shape[1]\n",
        "max_features_bigram = tfidf_mat_selection_bigram.shape[1]\n",
        "#max_features_trigram = tfidf_mat_selection_trigram.shape[1]"
      ]
    },
    {
      "cell_type": "markdown",
      "source": [
        "Menampilkan fitur yang diseleksi oleh IG"
      ],
      "metadata": {
        "id": "axDXp-DQy59s"
      }
    },
    {
      "cell_type": "code",
      "execution_count": 14,
      "metadata": {
        "colab": {
          "base_uri": "https://localhost:8080/",
          "height": 282
        },
        "id": "3U4363zBqxvx",
        "outputId": "0a360ba0-9dea-41ea-dad7-e739b72ce802"
      },
      "outputs": [
        {
          "output_type": "execute_result",
          "data": {
            "text/plain": [
              "<matplotlib.legend.Legend at 0x7f27591f2210>"
            ]
          },
          "metadata": {},
          "execution_count": 14
        },
        {
          "output_type": "display_data",
          "data": {
            "image/png": "[encoded data removed]",
            "text/plain": [
              "<Figure size 432x288 with 1 Axes>"
            ]
          },
          "metadata": {
            "needs_background": "light"
          }
        }
      ],
      "source": [
        "# plot number of feature on bar chart\n",
        "groups = [[tfidf_mat_unigram.shape[1], \n",
        "           tfidf_mat_bigram.shape[1]], \n",
        "          \n",
        "          [tfidf_mat_selection_unigram.shape[1], \n",
        "           tfidf_mat_selection_bigram.shape[1]]]\n",
        "\n",
        "group_labels = ['original feature', 'selected feature']\n",
        "\n",
        "# Convert data to pandas DataFrame.\n",
        "df = pd.DataFrame(groups, index=group_labels, columns=[\"unigram\", \"bigram\"])\n",
        "\n",
        "# plot into bar chart\n",
        "ax = df.plot(kind='bar', rot=0) \n",
        "for p in ax.patches:\n",
        "    ax.annotate(str(p.get_height()), (p.get_x() * 1.005, p.get_height() * 1.005))\n",
        "\n",
        "ax.legend(loc='lower right')"
      ]
    },
    {
      "cell_type": "markdown",
      "source": [
        "Menyimpan sparse matrix dari hasil IG untuk digunakan pada tahap klasifikasi"
      ],
      "metadata": {
        "id": "NaIsAfC6zmii"
      }
    },
    {
      "cell_type": "code",
      "execution_count": 15,
      "metadata": {
        "id": "gJFW-DJETui1"
      },
      "outputs": [],
      "source": [
        "# save sparse matrix unigram, bigram and trigram to .npz file\n",
        "sparse.save_npz(\"tfidf_mat_selection_unigram.npz\", sparse.csr_matrix(tfidf_mat_selection_unigram))\n",
        "sparse.save_npz(\"tfidf_mat_selection_bigram.npz\", sparse.csr_matrix(tfidf_mat_selection_bigram))\n",
        "#sparse.save_npz(\"tfidf_mat_selection_trigram.npz\", sparse.csr_matrix(tfidf_mat_selection_trigram))"
      ]
    },
    {
      "cell_type": "code",
      "execution_count": null,
      "metadata": {
        "colab": {
          "base_uri": "https://localhost:8080/",
          "height": 17
        },
        "id": "u82_IORfhH0C",
        "outputId": "03f75fd6-0b1c-449b-dbe6-87e7a97ae07c"
      },
      "outputs": [
        {
          "output_type": "display_data",
          "data": {
            "application/javascript": [
              "\n",
              "    async function download(id, filename, size) {\n",
              "      if (!google.colab.kernel.accessAllowed) {\n",
              "        return;\n",
              "      }\n",
              "      const div = document.createElement('div');\n",
              "      const label = document.createElement('label');\n",
              "      label.textContent = `Downloading \"${filename}\": `;\n",
              "      div.appendChild(label);\n",
              "      const progress = document.createElement('progress');\n",
              "      progress.max = size;\n",
              "      div.appendChild(progress);\n",
              "      document.body.appendChild(div);\n",
              "\n",
              "      const buffers = [];\n",
              "      let downloaded = 0;\n",
              "\n",
              "      const channel = await google.colab.kernel.comms.open(id);\n",
              "      // Send a message to notify the kernel that we're ready.\n",
              "      channel.send({})\n",
              "\n",
              "      for await (const message of channel.messages) {\n",
              "        // Send a message to notify the kernel that we're ready.\n",
              "        channel.send({})\n",
              "        if (message.buffers) {\n",
              "          for (const buffer of message.buffers) {\n",
              "            buffers.push(buffer);\n",
              "            downloaded += buffer.byteLength;\n",
              "            progress.value = downloaded;\n",
              "          }\n",
              "        }\n",
              "      }\n",
              "      const blob = new Blob(buffers, {type: 'application/binary'});\n",
              "      const a = document.createElement('a');\n",
              "      a.href = window.URL.createObjectURL(blob);\n",
              "      a.download = filename;\n",
              "      div.appendChild(a);\n",
              "      a.click();\n",
              "      div.remove();\n",
              "    }\n",
              "  "
            ],
            "text/plain": [
              "<IPython.core.display.Javascript object>"
            ]
          },
          "metadata": {}
        },
        {
          "output_type": "display_data",
          "data": {
            "application/javascript": [
              "download(\"download_2b976f96-a26b-491e-b651-dc984a23112a\", \"tfidf_mat_selection_unigram.npz\", 17498296)"
            ],
            "text/plain": [
              "<IPython.core.display.Javascript object>"
            ]
          },
          "metadata": {}
        },
        {
          "output_type": "display_data",
          "data": {
            "application/javascript": [
              "\n",
              "    async function download(id, filename, size) {\n",
              "      if (!google.colab.kernel.accessAllowed) {\n",
              "        return;\n",
              "      }\n",
              "      const div = document.createElement('div');\n",
              "      const label = document.createElement('label');\n",
              "      label.textContent = `Downloading \"${filename}\": `;\n",
              "      div.appendChild(label);\n",
              "      const progress = document.createElement('progress');\n",
              "      progress.max = size;\n",
              "      div.appendChild(progress);\n",
              "      document.body.appendChild(div);\n",
              "\n",
              "      const buffers = [];\n",
              "      let downloaded = 0;\n",
              "\n",
              "      const channel = await google.colab.kernel.comms.open(id);\n",
              "      // Send a message to notify the kernel that we're ready.\n",
              "      channel.send({})\n",
              "\n",
              "      for await (const message of channel.messages) {\n",
              "        // Send a message to notify the kernel that we're ready.\n",
              "        channel.send({})\n",
              "        if (message.buffers) {\n",
              "          for (const buffer of message.buffers) {\n",
              "            buffers.push(buffer);\n",
              "            downloaded += buffer.byteLength;\n",
              "            progress.value = downloaded;\n",
              "          }\n",
              "        }\n",
              "      }\n",
              "      const blob = new Blob(buffers, {type: 'application/binary'});\n",
              "      const a = document.createElement('a');\n",
              "      a.href = window.URL.createObjectURL(blob);\n",
              "      a.download = filename;\n",
              "      div.appendChild(a);\n",
              "      a.click();\n",
              "      div.remove();\n",
              "    }\n",
              "  "
            ],
            "text/plain": [
              "<IPython.core.display.Javascript object>"
            ]
          },
          "metadata": {}
        },
        {
          "output_type": "display_data",
          "data": {
            "application/javascript": [
              "download(\"download_afa614ce-e902-4652-8a36-e8cde7c460ee\", \"tfidf_mat_selection_bigram.npz\", 2459051)"
            ],
            "text/plain": [
              "<IPython.core.display.Javascript object>"
            ]
          },
          "metadata": {}
        }
      ],
      "source": [
        "files.download('tfidf_mat_selection_unigram.npz')\n",
        "files.download('tfidf_mat_selection_bigram.npz')\n",
        "#files.download('tfidf_mat_selection_trigram.npz')"
      ]
    },
    {
      "cell_type": "markdown",
      "metadata": {
        "id": "9sUUWsU-1eGV"
      },
      "source": [
        "Information gain"
      ]
    },
    {
      "cell_type": "markdown",
      "source": [
        "Membaca sparse matrix dan tags dari IG untuk unigram dan bigram"
      ],
      "metadata": {
        "id": "o0mMA2Luzzd_"
      }
    },
    {
      "cell_type": "code",
      "execution_count": 16,
      "metadata": {
        "id": "-nwsaGr71bNV"
      },
      "outputs": [],
      "source": [
        "# ---------------------- Get Sparse Matrix & Tags , Unigram, BIgram and Trigram ------------------\n",
        "def get_sparse_n_tags(file_names, dataset_name):\n",
        "    \n",
        "    # load preprocessed dataset as dataframe\n",
        "    tags = clean_data.sentiment\n",
        "    \n",
        "    # load sparse matrix\n",
        "    unigram = sparse.load_npz(file_names[0]).toarray()\n",
        "    bigram = sparse.load_npz(file_names[1]).toarray()\n",
        "    #trigram = sparse.load_npz(file_names[2]).toarray()\n",
        "    \n",
        "    return [unigram, bigram, tags]\n",
        "\n",
        "sparse_file_names = [\n",
        "                    \"tfidf_mat_selection_unigram.npz\",\n",
        "                    \"tfidf_mat_selection_bigram.npz\"]\n",
        "preprocessed_dataset_name = y\n",
        "\n",
        "sparse_unigram, sparse_bigram, tags = \\\n",
        "                        get_sparse_n_tags(sparse_file_names, preprocessed_dataset_name)"
      ]
    },
    {
      "cell_type": "code",
      "execution_count": 17,
      "metadata": {
        "colab": {
          "base_uri": "https://localhost:8080/"
        },
        "id": "0uJ5OnsnUd-4",
        "outputId": "88eb607d-a17e-47d5-cd21-2b5151aeff91"
      },
      "outputs": [
        {
          "output_type": "execute_result",
          "data": {
            "text/plain": [
              "((50000, 1363), (50000, 1534))"
            ]
          },
          "metadata": {},
          "execution_count": 17
        }
      ],
      "source": [
        "sparse_unigram.shape, sparse_bigram.shape"
      ]
    },
    {
      "cell_type": "markdown",
      "metadata": {
        "id": "CVes8QwzQJ1f"
      },
      "source": [
        "SPLIT DATA"
      ]
    },
    {
      "cell_type": "code",
      "execution_count": 18,
      "metadata": {
        "id": "4m8YQSlD1Gnq"
      },
      "outputs": [],
      "source": [
        "# ---------------------------- SPLIT DATASET -----------------------------------------------\n",
        "def split_dataset(sparse, tags, split_ratio):\n",
        "    # split dataset \n",
        "    return train_test_split(sparse, tags, test_size=split_ratio, random_state=42) \n",
        "\n",
        "sparse_unigram_train, sparse_unigram_test, tags_train, tags_test = split_dataset(sparse_unigram, tags, 0.3)\n",
        "sparse_bigram_train, sparse_bigram_test, tags_train, tags_test = split_dataset(sparse_bigram, tags, 0.3)\n",
        "#sparse_trigram_train, sparse_trigram_test, tags_train, tags_test = split_dataset(sparse_trigram, tags, 0.3)\n"
      ]
    },
    {
      "cell_type": "markdown",
      "metadata": {
        "id": "BZFBQj2ooa-N"
      },
      "source": [
        "Klasifikasi MultinomialNB"
      ]
    },
    {
      "cell_type": "markdown",
      "source": [
        "Unigram"
      ],
      "metadata": {
        "id": "0HiweTW-vRX0"
      }
    },
    {
      "cell_type": "code",
      "execution_count": 19,
      "metadata": {
        "colab": {
          "base_uri": "https://localhost:8080/"
        },
        "id": "Om6Pe1FWu2-v",
        "outputId": "3f5a1edf-8871-4899-f281-1d41d8d1057e"
      },
      "outputs": [
        {
          "output_type": "stream",
          "name": "stdout",
          "text": [
            "              precision    recall  f1-score   support\n",
            "\n",
            "    negative       0.85      0.84      0.85      7411\n",
            "    positive       0.85      0.86      0.85      7589\n",
            "\n",
            "    accuracy                           0.85     15000\n",
            "   macro avg       0.85      0.85      0.85     15000\n",
            "weighted avg       0.85      0.85      0.85     15000\n",
            "\n",
            "Confusion Matrix:\n",
            " [[6240 1171]\n",
            " [1095 6494]]\n",
            "\n",
            " 0.846 accuracy with a standard deviation of 0.005\n"
          ]
        }
      ],
      "source": [
        "nb_ig = MultinomialNB()\n",
        "nb_ig.fit(sparse_unigram_train,tags_train)  \n",
        "\n",
        "#Predict y value for test dataset\n",
        "y_pred = nb_ig.predict(sparse_unigram_test)\n",
        "y_prob = nb_ig.predict_proba(sparse_unigram_test)\n",
        "print(classification_report(tags_test, y_pred))\n",
        "print('Confusion Matrix:\\n',metrics.confusion_matrix(tags_test, y_pred))\n",
        "\n",
        "avg_score = (cross_val_score(nb_ig, sparse_unigram_test, tags_test, cv=5))\n",
        "\n",
        "print(\"\\n %0.3f accuracy with a standard deviation of %0.3f\" % (avg_score.mean(), avg_score.std()))\n",
        " "
      ]
    },
    {
      "cell_type": "markdown",
      "source": [
        "Bigram"
      ],
      "metadata": {
        "id": "_a0j4tZcvSqw"
      }
    },
    {
      "cell_type": "code",
      "execution_count": 20,
      "metadata": {
        "colab": {
          "base_uri": "https://localhost:8080/"
        },
        "id": "jCta-NV8u5FX",
        "outputId": "6d995087-3035-47bd-d035-2896e8a1b318"
      },
      "outputs": [
        {
          "output_type": "stream",
          "name": "stdout",
          "text": [
            "              precision    recall  f1-score   support\n",
            "\n",
            "    negative       0.76      0.78      0.77      7411\n",
            "    positive       0.78      0.76      0.77      7589\n",
            "\n",
            "    accuracy                           0.77     15000\n",
            "   macro avg       0.77      0.77      0.77     15000\n",
            "weighted avg       0.77      0.77      0.77     15000\n",
            "\n",
            "Confusion Matrix:\n",
            " [[5749 1662]\n",
            " [1834 5755]]\n",
            "\n",
            " 0.760 accuracy with a standard deviation of 0.006\n"
          ]
        }
      ],
      "source": [
        "nb_ig = MultinomialNB()\n",
        "nb_ig.fit(sparse_bigram_train,tags_train)  \n",
        "\n",
        "#Predict y value for test dataset\n",
        "y_pred = nb_ig.predict(sparse_bigram_test)\n",
        "y_prob = nb_ig.predict_proba(sparse_bigram_test)\n",
        "print(classification_report(tags_test, y_pred))\n",
        "\n",
        "print('Confusion Matrix:\\n',metrics.confusion_matrix(tags_test, y_pred))\n",
        "\n",
        "avg_score = (cross_val_score(nb_ig, sparse_bigram_test, tags_test, cv=5))\n",
        "\n",
        "print(\"\\n %0.3f accuracy with a standard deviation of %0.3f\" % (avg_score.mean(), avg_score.std()))"
      ]
    },
    {
      "cell_type": "markdown",
      "metadata": {
        "id": "3myb7wMCoUTo"
      },
      "source": [
        "klasifikasi SVM"
      ]
    },
    {
      "cell_type": "markdown",
      "source": [
        "Unigram\n"
      ],
      "metadata": {
        "id": "jZzqmY1rvVia"
      }
    },
    {
      "cell_type": "code",
      "execution_count": 21,
      "metadata": {
        "colab": {
          "base_uri": "https://localhost:8080/"
        },
        "id": "JaaVdb_C5ERS",
        "outputId": "13378ce9-b94f-4473-e49f-9d9bf1d3eece"
      },
      "outputs": [
        {
          "output_type": "stream",
          "name": "stdout",
          "text": [
            "              precision    recall  f1-score   support\n",
            "\n",
            "    negative       0.88      0.86      0.87      7411\n",
            "    positive       0.86      0.89      0.88      7589\n",
            "\n",
            "    accuracy                           0.87     15000\n",
            "   macro avg       0.87      0.87      0.87     15000\n",
            "weighted avg       0.87      0.87      0.87     15000\n",
            "\n",
            "Confusion Matrix:\n",
            " [[6361 1050]\n",
            " [ 868 6721]]\n",
            "\n",
            " 0.862 accuracy with a standard deviation of 0.005\n"
          ]
        }
      ],
      "source": [
        "svc = LinearSVC()\n",
        "svc.fit(sparse_unigram_train, tags_train)\n",
        "\n",
        "y_true = tags_test\n",
        "y_pred = svc.predict(sparse_unigram_test)\n",
        "\n",
        "print(classification_report(tags_test, y_pred))\n",
        "print('Confusion Matrix:\\n',metrics.confusion_matrix(tags_test, y_pred))\n",
        "\n",
        "avg_score = (cross_val_score(svc, sparse_unigram_test, tags_test, cv=5))\n",
        "\n",
        "print(\"\\n %0.3f accuracy with a standard deviation of %0.3f\" % (avg_score.mean(), avg_score.std()))\n"
      ]
    },
    {
      "cell_type": "markdown",
      "source": [
        "Bigram"
      ],
      "metadata": {
        "id": "LSCQBMoyva-H"
      }
    },
    {
      "cell_type": "code",
      "execution_count": 22,
      "metadata": {
        "colab": {
          "base_uri": "https://localhost:8080/"
        },
        "id": "obnhXip4hYuV",
        "outputId": "195fc342-64e6-493c-e0cc-6cef1e1bcef5"
      },
      "outputs": [
        {
          "output_type": "stream",
          "name": "stdout",
          "text": [
            "              precision    recall  f1-score   support\n",
            "\n",
            "    negative       0.78      0.74      0.76      7411\n",
            "    positive       0.76      0.80      0.78      7589\n",
            "\n",
            "    accuracy                           0.77     15000\n",
            "   macro avg       0.77      0.77      0.77     15000\n",
            "weighted avg       0.77      0.77      0.77     15000\n",
            "\n",
            "Confusion Matrix:\n",
            " [[5455 1956]\n",
            " [1510 6079]]\n",
            "\n",
            " 0.747 accuracy with a standard deviation of 0.007\n"
          ]
        }
      ],
      "source": [
        "svc = LinearSVC()\n",
        "svc.fit(sparse_bigram_train, tags_train)\n",
        "\n",
        "y_true = tags_test\n",
        "y_pred = svc.predict(sparse_bigram_test)\n",
        "\n",
        "print(metrics.classification_report(tags_test, y_pred))\n",
        "print('Confusion Matrix:\\n', metrics.confusion_matrix(tags_test, y_pred))\n",
        "\n",
        "avg_score = (cross_val_score(svc, sparse_bigram_test, tags_test, cv=5))\n",
        "print(\"\\n %0.3f accuracy with a standard deviation of %0.3f\" % (avg_score.mean(), avg_score.std()))\n"
      ]
    }
  ],
  "metadata": {
    "colab": {
      "name": "Tugas Akhir.ipynb",
      "provenance": [],
      "collapsed_sections": []
    },
    "kernelspec": {
      "display_name": "Python 3",
      "name": "python3"
    },
    "language_info": {
      "name": "python"
    }
  },
  "nbformat": 4,
  "nbformat_minor": 0
}